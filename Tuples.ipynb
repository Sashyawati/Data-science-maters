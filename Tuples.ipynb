{
 "cells": [
  {
   "cell_type": "markdown",
   "id": "67a469e0-0ed9-46ad-83fe-60f986508a1f",
   "metadata": {},
   "source": [
    "TUPLES"
   ]
  },
  {
   "cell_type": "code",
   "execution_count": null,
   "id": "d54f669f-bb81-40fa-99b1-13f6f4e206bc",
   "metadata": {},
   "outputs": [],
   "source": [
    "t1=(1,2,3,4,45.45,(45+3j),\"shelly\",True)"
   ]
  },
  {
   "cell_type": "code",
   "execution_count": 13,
   "id": "31c30c2a-40b4-4867-9447-ef122aefc03e",
   "metadata": {},
   "outputs": [
    {
     "data": {
      "text/plain": [
       "(1, 2, 3, 4, 45.45, (45+3j), 'shelly', True)"
      ]
     },
     "execution_count": 13,
     "metadata": {},
     "output_type": "execute_result"
    }
   ],
   "source": [
    "t1"
   ]
  },
  {
   "cell_type": "code",
   "execution_count": 16,
   "id": "8f124e11-5aee-41f8-a7f1-adcb42fac12f",
   "metadata": {},
   "outputs": [
    {
     "data": {
      "text/plain": [
       "1"
      ]
     },
     "execution_count": 16,
     "metadata": {},
     "output_type": "execute_result"
    }
   ],
   "source": [
    "t1[0]"
   ]
  },
  {
   "cell_type": "code",
   "execution_count": 17,
   "id": "26070c36-ada6-4599-89a9-ccc33452dbb4",
   "metadata": {},
   "outputs": [
    {
     "data": {
      "text/plain": [
       "True"
      ]
     },
     "execution_count": 17,
     "metadata": {},
     "output_type": "execute_result"
    }
   ],
   "source": [
    "t1[7]"
   ]
  },
  {
   "cell_type": "code",
   "execution_count": 23,
   "id": "ea284fb9-2483-4272-a800-8d0f70620d93",
   "metadata": {},
   "outputs": [
    {
     "data": {
      "text/plain": [
       "(True, 'shelly', (45+3j), 45.45, 4, 3, 2, 1)"
      ]
     },
     "execution_count": 23,
     "metadata": {},
     "output_type": "execute_result"
    }
   ],
   "source": [
    "t1[::-1]"
   ]
  },
  {
   "cell_type": "code",
   "execution_count": 24,
   "id": "4ffaeefe-5b16-4651-9989-f291d940569b",
   "metadata": {},
   "outputs": [
    {
     "data": {
      "text/plain": [
       "(1, 2, 3, 4, 45.45, (45+3j), 'shelly', True)"
      ]
     },
     "execution_count": 24,
     "metadata": {},
     "output_type": "execute_result"
    }
   ],
   "source": [
    "t1"
   ]
  },
  {
   "cell_type": "code",
   "execution_count": 31,
   "id": "c905dab4-5c42-415e-964e-d16f0dddfff0",
   "metadata": {},
   "outputs": [],
   "source": [
    "t1 = t1[::-1]"
   ]
  },
  {
   "cell_type": "code",
   "execution_count": 32,
   "id": "6e6972f5-46f1-43c9-b03d-904de6a1ef16",
   "metadata": {},
   "outputs": [
    {
     "data": {
      "text/plain": [
       "(True, 'shelly', (45+3j), 45.45, 4, 3, 2, 1)"
      ]
     },
     "execution_count": 32,
     "metadata": {},
     "output_type": "execute_result"
    }
   ],
   "source": [
    "t1"
   ]
  },
  {
   "cell_type": "code",
   "execution_count": 36,
   "id": "d7a297be-5507-4768-9bcb-b710e6e63ff5",
   "metadata": {},
   "outputs": [
    {
     "data": {
      "text/plain": [
       "(True, 'shelly', (45+3j))"
      ]
     },
     "execution_count": 36,
     "metadata": {},
     "output_type": "execute_result"
    }
   ],
   "source": [
    "t1[0:3]"
   ]
  },
  {
   "cell_type": "code",
   "execution_count": 37,
   "id": "367c28d7-92b0-489e-998a-6ad7fed846af",
   "metadata": {},
   "outputs": [
    {
     "data": {
      "text/plain": [
       "0"
      ]
     },
     "execution_count": 37,
     "metadata": {},
     "output_type": "execute_result"
    }
   ],
   "source": [
    "t1.count(\"erl\")"
   ]
  },
  {
   "cell_type": "code",
   "execution_count": 38,
   "id": "d9a6622d-2d81-480d-aee0-73dbbb70a9fd",
   "metadata": {},
   "outputs": [
    {
     "data": {
      "text/plain": [
       "0"
      ]
     },
     "execution_count": 38,
     "metadata": {},
     "output_type": "execute_result"
    }
   ],
   "source": [
    "t1.count(45)"
   ]
  },
  {
   "cell_type": "code",
   "execution_count": 39,
   "id": "89fc1bbd-4fa4-4355-a492-4c59a7de3fb7",
   "metadata": {},
   "outputs": [
    {
     "data": {
      "text/plain": [
       "2"
      ]
     },
     "execution_count": 39,
     "metadata": {},
     "output_type": "execute_result"
    }
   ],
   "source": [
    "t1.count(True)"
   ]
  },
  {
   "cell_type": "code",
   "execution_count": 42,
   "id": "6b3bbfed-eb8a-4fbb-9a57-5b0d96049525",
   "metadata": {},
   "outputs": [
    {
     "data": {
      "text/plain": [
       "0"
      ]
     },
     "execution_count": 42,
     "metadata": {},
     "output_type": "execute_result"
    }
   ],
   "source": [
    "t1.index(1)"
   ]
  },
  {
   "cell_type": "code",
   "execution_count": 43,
   "id": "45aa391f-1820-4d64-b3d6-4e60634e082a",
   "metadata": {},
   "outputs": [
    {
     "data": {
      "text/plain": [
       "(True, 'shelly', (45+3j), 45.45, 4, 3, 2, 1)"
      ]
     },
     "execution_count": 43,
     "metadata": {},
     "output_type": "execute_result"
    }
   ],
   "source": [
    "t1"
   ]
  },
  {
   "cell_type": "code",
   "execution_count": 45,
   "id": "c5a545b7-ac1e-4add-b2cc-29edc8a944e2",
   "metadata": {},
   "outputs": [
    {
     "name": "stdout",
     "output_type": "stream",
     "text": [
      "True\n",
      "shelly\n",
      "(45+3j)\n",
      "45.45\n",
      "4\n",
      "3\n",
      "2\n",
      "1\n"
     ]
    }
   ],
   "source": [
    "for i in t1 :\n",
    "    print(i)"
   ]
  },
  {
   "cell_type": "code",
   "execution_count": 46,
   "id": "7fa32658-1a3d-4919-83c3-aef32748a9f8",
   "metadata": {},
   "outputs": [],
   "source": [
    "t2 =(1,2,3,4,4)"
   ]
  },
  {
   "cell_type": "code",
   "execution_count": 47,
   "id": "80e32cd4-b019-48e2-ad8c-c5b9b706ec16",
   "metadata": {},
   "outputs": [
    {
     "data": {
      "text/plain": [
       "(1, 2, 3, 4, 4)"
      ]
     },
     "execution_count": 47,
     "metadata": {},
     "output_type": "execute_result"
    }
   ],
   "source": [
    "t2"
   ]
  },
  {
   "cell_type": "code",
   "execution_count": 48,
   "id": "bebd74d5-6b1d-4ba6-8448-e540f2b5c197",
   "metadata": {},
   "outputs": [
    {
     "data": {
      "text/plain": [
       "(1, 2, 3, 4, 4, 1, 2, 3, 4, 4, 1, 2, 3, 4, 4)"
      ]
     },
     "execution_count": 48,
     "metadata": {},
     "output_type": "execute_result"
    }
   ],
   "source": [
    "t2*3"
   ]
  },
  {
   "cell_type": "code",
   "execution_count": 49,
   "id": "008821d3-e3e9-456b-b722-3725d0b4e6e2",
   "metadata": {},
   "outputs": [
    {
     "data": {
      "text/plain": [
       "4"
      ]
     },
     "execution_count": 49,
     "metadata": {},
     "output_type": "execute_result"
    }
   ],
   "source": [
    "max(t2)"
   ]
  },
  {
   "cell_type": "code",
   "execution_count": 50,
   "id": "d88f9430-6850-42de-ba5b-1850c4d5c3fd",
   "metadata": {},
   "outputs": [
    {
     "data": {
      "text/plain": [
       "1"
      ]
     },
     "execution_count": 50,
     "metadata": {},
     "output_type": "execute_result"
    }
   ],
   "source": [
    "min(t2)"
   ]
  },
  {
   "cell_type": "code",
   "execution_count": 51,
   "id": "723b4ff1-4380-4b86-a6bd-d077e797ee45",
   "metadata": {},
   "outputs": [],
   "source": [
    "t1=(1,2,3,4)\n",
    "t2=(5,6,7,8)"
   ]
  },
  {
   "cell_type": "code",
   "execution_count": 52,
   "id": "59179f0c-d968-4a20-ac28-ef15063dc11f",
   "metadata": {},
   "outputs": [],
   "source": [
    "t3 =(t1,t2)"
   ]
  },
  {
   "cell_type": "code",
   "execution_count": 53,
   "id": "bd392b22-cd90-45cd-b2e6-c1fafde481ff",
   "metadata": {},
   "outputs": [
    {
     "data": {
      "text/plain": [
       "((1, 2, 3, 4), (5, 6, 7, 8))"
      ]
     },
     "execution_count": 53,
     "metadata": {},
     "output_type": "execute_result"
    }
   ],
   "source": [
    "t3"
   ]
  },
  {
   "cell_type": "code",
   "execution_count": 54,
   "id": "04e50c58-dab5-4a96-9db6-cf7134179712",
   "metadata": {},
   "outputs": [],
   "source": [
    "##tuples inside list\n",
    "t4= ((1, 2, 3, 4), [5,6,7,8,9])"
   ]
  },
  {
   "cell_type": "code",
   "execution_count": 55,
   "id": "54b65457-b21f-4cd0-b1b4-f16486140c90",
   "metadata": {},
   "outputs": [
    {
     "data": {
      "text/plain": [
       "((1, 2, 3, 4), [5, 6, 7, 8, 9])"
      ]
     },
     "execution_count": 55,
     "metadata": {},
     "output_type": "execute_result"
    }
   ],
   "source": [
    "t4"
   ]
  },
  {
   "cell_type": "code",
   "execution_count": 56,
   "id": "767faf6c-0114-4e1f-8eb2-d37d36a99ab6",
   "metadata": {},
   "outputs": [
    {
     "data": {
      "text/plain": [
       "(1, 2, 3, 4)"
      ]
     },
     "execution_count": 56,
     "metadata": {},
     "output_type": "execute_result"
    }
   ],
   "source": [
    "t1"
   ]
  },
  {
   "cell_type": "code",
   "execution_count": 57,
   "id": "2e97cd88-cad1-4712-a893-6674533f60b1",
   "metadata": {},
   "outputs": [
    {
     "data": {
      "text/plain": [
       "4"
      ]
     },
     "execution_count": 57,
     "metadata": {},
     "output_type": "execute_result"
    }
   ],
   "source": [
    "len(t1)"
   ]
  },
  {
   "cell_type": "code",
   "execution_count": 58,
   "id": "3d4eb8d7-5148-471f-a191-60710b6cc74e",
   "metadata": {},
   "outputs": [
    {
     "data": {
      "text/plain": [
       "(5, 6, 7, 8)"
      ]
     },
     "execution_count": 58,
     "metadata": {},
     "output_type": "execute_result"
    }
   ],
   "source": [
    "t2"
   ]
  },
  {
   "cell_type": "code",
   "execution_count": 59,
   "id": "dd3b1e80-c9ef-41bf-bbf4-8fbc99b36876",
   "metadata": {},
   "outputs": [
    {
     "data": {
      "text/plain": [
       "4"
      ]
     },
     "execution_count": 59,
     "metadata": {},
     "output_type": "execute_result"
    }
   ],
   "source": [
    "len(t2)"
   ]
  },
  {
   "cell_type": "code",
   "execution_count": 60,
   "id": "382bf512-d2ee-4995-974c-480bde80c2d2",
   "metadata": {},
   "outputs": [],
   "source": [
    "##deleting a tuple\n",
    "del t4"
   ]
  },
  {
   "cell_type": "code",
   "execution_count": 61,
   "id": "4a57313c-cc69-448c-8e57-bead378b5cd4",
   "metadata": {},
   "outputs": [
    {
     "ename": "NameError",
     "evalue": "name 't4' is not defined",
     "output_type": "error",
     "traceback": [
      "\u001b[0;31m---------------------------------------------------------------------------\u001b[0m",
      "\u001b[0;31mNameError\u001b[0m                                 Traceback (most recent call last)",
      "Cell \u001b[0;32mIn[61], line 1\u001b[0m\n\u001b[0;32m----> 1\u001b[0m \u001b[43mt4\u001b[49m\n",
      "\u001b[0;31mNameError\u001b[0m: name 't4' is not defined"
     ]
    }
   ],
   "source": [
    "t4"
   ]
  },
  {
   "cell_type": "code",
   "execution_count": 62,
   "id": "0d399762-79f1-4641-bbb3-dcda140a0d2d",
   "metadata": {},
   "outputs": [
    {
     "data": {
      "text/plain": [
       "False"
      ]
     },
     "execution_count": 62,
     "metadata": {},
     "output_type": "execute_result"
    }
   ],
   "source": [
    "\"shelly\" in t1"
   ]
  },
  {
   "cell_type": "code",
   "execution_count": 63,
   "id": "5a5ebbe1-74d3-4913-9b1a-49e6eb3a2653",
   "metadata": {},
   "outputs": [
    {
     "data": {
      "text/plain": [
       "True"
      ]
     },
     "execution_count": 63,
     "metadata": {},
     "output_type": "execute_result"
    }
   ],
   "source": [
    "2 in t1"
   ]
  },
  {
   "cell_type": "markdown",
   "id": "2541d589-bad8-4270-998f-360421b92705",
   "metadata": {},
   "source": [
    "set"
   ]
  },
  {
   "cell_type": "code",
   "execution_count": 68,
   "id": "eea52e71-2bf3-42ac-8ba4-094db9d74b67",
   "metadata": {},
   "outputs": [],
   "source": [
    "s1 ={1,2,2,3,4,45,45,523,545,545,27,27,30,40}"
   ]
  },
  {
   "cell_type": "code",
   "execution_count": 69,
   "id": "1bb22fe0-5e43-44fb-887f-096d4e973103",
   "metadata": {},
   "outputs": [
    {
     "data": {
      "text/plain": [
       "{1, 2, 3, 4, 27, 30, 40, 45, 523, 545}"
      ]
     },
     "execution_count": 69,
     "metadata": {},
     "output_type": "execute_result"
    }
   ],
   "source": [
    "s1"
   ]
  },
  {
   "cell_type": "code",
   "execution_count": 71,
   "id": "e9068263-8e7d-496e-8667-8d1397f36939",
   "metadata": {},
   "outputs": [
    {
     "data": {
      "text/plain": [
       "[1, 2, 3, 4, 545, 40, 523, 45, 27, 30]"
      ]
     },
     "execution_count": 71,
     "metadata": {},
     "output_type": "execute_result"
    }
   ],
   "source": [
    "list(s1)"
   ]
  },
  {
   "cell_type": "code",
   "execution_count": 72,
   "id": "54a83d43-948b-4dbe-9f82-f97c4bd43330",
   "metadata": {},
   "outputs": [
    {
     "data": {
      "text/plain": [
       "(1, 2, 3, 4, 545, 40, 523, 45, 27, 30)"
      ]
     },
     "execution_count": 72,
     "metadata": {},
     "output_type": "execute_result"
    }
   ],
   "source": [
    "tuple(s1)"
   ]
  },
  {
   "cell_type": "code",
   "execution_count": 73,
   "id": "64967ac6-09de-4b1b-8cfe-e2f92f44807b",
   "metadata": {},
   "outputs": [
    {
     "data": {
      "text/plain": [
       "{1, 2, 3, 4, 27, 30, 40, 45, 523, 545}"
      ]
     },
     "execution_count": 73,
     "metadata": {},
     "output_type": "execute_result"
    }
   ],
   "source": [
    "s1"
   ]
  },
  {
   "cell_type": "code",
   "execution_count": 75,
   "id": "0ccc51f5-d251-44db-aa2e-cf5a90102320",
   "metadata": {},
   "outputs": [
    {
     "ename": "TypeError",
     "evalue": "'set' object is not subscriptable",
     "output_type": "error",
     "traceback": [
      "\u001b[0;31m---------------------------------------------------------------------------\u001b[0m",
      "\u001b[0;31mTypeError\u001b[0m                                 Traceback (most recent call last)",
      "Cell \u001b[0;32mIn[75], line 1\u001b[0m\n\u001b[0;32m----> 1\u001b[0m \u001b[43ms1\u001b[49m\u001b[43m[\u001b[49m\u001b[38;5;241;43m0\u001b[39;49m\u001b[43m]\u001b[49m\n",
      "\u001b[0;31mTypeError\u001b[0m: 'set' object is not subscriptable"
     ]
    }
   ],
   "source": [
    "s1[0] #sets doesn't allow the indextiazation  nothing like tuples and list"
   ]
  },
  {
   "cell_type": "code",
   "execution_count": 76,
   "id": "9232dde1-624c-488a-b4c4-c19e897aa66a",
   "metadata": {},
   "outputs": [
    {
     "data": {
      "text/plain": [
       "{1, 2, 3, 4, 27, 30, 40, 45, 523, 545}"
      ]
     },
     "execution_count": 76,
     "metadata": {},
     "output_type": "execute_result"
    }
   ],
   "source": [
    "s1"
   ]
  },
  {
   "cell_type": "code",
   "execution_count": 77,
   "id": "19510e78-7640-47b9-8879-a566032a6521",
   "metadata": {},
   "outputs": [
    {
     "data": {
      "text/plain": [
       "1"
      ]
     },
     "execution_count": 77,
     "metadata": {},
     "output_type": "execute_result"
    }
   ],
   "source": [
    "s1.pop()"
   ]
  },
  {
   "cell_type": "code",
   "execution_count": 78,
   "id": "0977b74b-0a07-465a-917a-3e2db6a3ec1b",
   "metadata": {},
   "outputs": [
    {
     "data": {
      "text/plain": [
       "2"
      ]
     },
     "execution_count": 78,
     "metadata": {},
     "output_type": "execute_result"
    }
   ],
   "source": [
    "s1.pop()"
   ]
  },
  {
   "cell_type": "code",
   "execution_count": 79,
   "id": "968a7e47-3d73-4006-b600-5731b1db0a4c",
   "metadata": {},
   "outputs": [
    {
     "data": {
      "text/plain": [
       "{3, 4, 27, 30, 40, 45, 523, 545}"
      ]
     },
     "execution_count": 79,
     "metadata": {},
     "output_type": "execute_result"
    }
   ],
   "source": [
    "s1"
   ]
  },
  {
   "cell_type": "code",
   "execution_count": 80,
   "id": "cff8189f-6eb3-467e-a99f-fa34aa42a5fd",
   "metadata": {},
   "outputs": [],
   "source": [
    "s1.clear()"
   ]
  },
  {
   "cell_type": "code",
   "execution_count": 81,
   "id": "712cfe47-2bbf-402e-8177-48a88b399f48",
   "metadata": {},
   "outputs": [
    {
     "data": {
      "text/plain": [
       "set()"
      ]
     },
     "execution_count": 81,
     "metadata": {},
     "output_type": "execute_result"
    }
   ],
   "source": [
    "s1"
   ]
  },
  {
   "cell_type": "code",
   "execution_count": 82,
   "id": "262d5a45-82bd-41e9-8adb-cd1cc366005a",
   "metadata": {},
   "outputs": [],
   "source": [
    "s2={1,2,3,4}\n",
    "s3={1,2,3,5}"
   ]
  },
  {
   "cell_type": "code",
   "execution_count": 85,
   "id": "7e53d6b7-074a-427a-a50f-463dec43c6f5",
   "metadata": {},
   "outputs": [
    {
     "data": {
      "text/plain": [
       "{5}"
      ]
     },
     "execution_count": 85,
     "metadata": {},
     "output_type": "execute_result"
    }
   ],
   "source": [
    "s3.difference(s2)"
   ]
  },
  {
   "cell_type": "code",
   "execution_count": 86,
   "id": "0eeab6d2-fc69-4eca-ae3d-fe7ef814b243",
   "metadata": {},
   "outputs": [
    {
     "data": {
      "text/plain": [
       "{4}"
      ]
     },
     "execution_count": 86,
     "metadata": {},
     "output_type": "execute_result"
    }
   ],
   "source": [
    "s2.difference(s3)"
   ]
  },
  {
   "cell_type": "code",
   "execution_count": 87,
   "id": "6121799b-7feb-4ba1-a58b-eadfb67cde4c",
   "metadata": {},
   "outputs": [
    {
     "data": {
      "text/plain": [
       "set()"
      ]
     },
     "execution_count": 87,
     "metadata": {},
     "output_type": "execute_result"
    }
   ],
   "source": [
    "s1.union()"
   ]
  },
  {
   "cell_type": "markdown",
   "id": "0baaa159-e20f-4bbc-92f5-56d797d33306",
   "metadata": {},
   "source": [
    "ASSIGNMENTS"
   ]
  },
  {
   "cell_type": "code",
   "execution_count": 88,
   "id": "490abc87-fc86-427c-b789-3ff5afdcd5c3",
   "metadata": {},
   "outputs": [
    {
     "name": "stdout",
     "output_type": "stream",
     "text": [
      "400\n",
      "(200, 300, 400)\n"
     ]
    }
   ],
   "source": [
    "atuple = (100, 200, 300, 400, 500)\n",
    "\n",
    "print(atuple[-2])\n",
    "\n",
    "print(atuple[-4:-1])"
   ]
  },
  {
   "cell_type": "code",
   "execution_count": 89,
   "id": "af8ec2dc-cb3d-4aa5-bdd3-2ceb1bde6f95",
   "metadata": {},
   "outputs": [
    {
     "ename": "TypeError",
     "evalue": "'tuple' object is not callable",
     "output_type": "error",
     "traceback": [
      "\u001b[0;31m---------------------------------------------------------------------------\u001b[0m",
      "\u001b[0;31mTypeError\u001b[0m                                 Traceback (most recent call last)",
      "Cell \u001b[0;32mIn[89], line 3\u001b[0m\n\u001b[1;32m      1\u001b[0m atuple \u001b[38;5;241m=\u001b[39m (\u001b[38;5;124m\"\u001b[39m\u001b[38;5;124mOrange\u001b[39m\u001b[38;5;124m\"\u001b[39m)\n\u001b[0;32m----> 3\u001b[0m \u001b[38;5;28mprint\u001b[39m(\u001b[38;5;28;43mtype\u001b[39;49m\u001b[43m(\u001b[49m\u001b[43matuple\u001b[49m\u001b[43m)\u001b[49m)\n",
      "\u001b[0;31mTypeError\u001b[0m: 'tuple' object is not callable"
     ]
    }
   ],
   "source": [
    "atuple = (\"Orange\")\n",
    "\n",
    "print(type(atuple))"
   ]
  },
  {
   "cell_type": "code",
   "execution_count": 90,
   "id": "b660dc4b-37a7-4ce1-a08c-b6ca5f67caac",
   "metadata": {},
   "outputs": [
    {
     "name": "stdout",
     "output_type": "stream",
     "text": [
      "(100, 100)\n"
     ]
    }
   ],
   "source": [
    "atuple = (100,)\n",
    "\n",
    "print(atuple * 2)"
   ]
  },
  {
   "cell_type": "code",
   "execution_count": 91,
   "id": "e5ff73f3-5410-42b8-a16a-f2f66897846a",
   "metadata": {},
   "outputs": [
    {
     "name": "stdout",
     "output_type": "stream",
     "text": [
      "None\n"
     ]
    }
   ],
   "source": [
    "dict1 = {\"name\": \"Mike\", \"salary\": 8000}\n",
    "\n",
    "temp = dict1.get(\"age\")\n",
    "\n",
    "print(temp)"
   ]
  },
  {
   "cell_type": "code",
   "execution_count": 92,
   "id": "11b30150-2b35-4a8e-97a3-336ba60463d0",
   "metadata": {},
   "outputs": [
    {
     "name": "stdout",
     "output_type": "stream",
     "text": [
      "True\n"
     ]
    }
   ],
   "source": [
    "dict1 = {\"key1\":1, \"key2\":2}\n",
    "\n",
    "dict2 = {\"key2\":2, \"key1\":1}\n",
    "\n",
    "print(dict1 == dict2)"
   ]
  },
  {
   "cell_type": "code",
   "execution_count": 93,
   "id": "6b67f055-e503-4ecb-8234-e91b56319735",
   "metadata": {},
   "outputs": [
    {
     "name": "stdout",
     "output_type": "stream",
     "text": [
      "{'Blue', 'Pink'}\n"
     ]
    }
   ],
   "source": [
    "set1 = {\"Yellow\", \"Orange\", \"Black\"}\n",
    "\n",
    "set2 = {\"Orange\", \"Blue\", \"Pink\"}\n",
    "\n",
    "set3 = set2.difference(set1)\n",
    "\n",
    "print(set3)"
   ]
  },
  {
   "cell_type": "markdown",
   "id": "61999b22-c3d8-406e-9884-9faf3ebcc9aa",
   "metadata": {},
   "source": [
    "DICTIONARY"
   ]
  },
  {
   "cell_type": "code",
   "execution_count": null,
   "id": "5048ab5d-ecb0-49d3-afcc-9def15cd75d3",
   "metadata": {},
   "outputs": [],
   "source": []
  }
 ],
 "metadata": {
  "kernelspec": {
   "display_name": "Python 3 (ipykernel)",
   "language": "python",
   "name": "python3"
  },
  "language_info": {
   "codemirror_mode": {
    "name": "ipython",
    "version": 3
   },
   "file_extension": ".py",
   "mimetype": "text/x-python",
   "name": "python",
   "nbconvert_exporter": "python",
   "pygments_lexer": "ipython3",
   "version": "3.10.8"
  }
 },
 "nbformat": 4,
 "nbformat_minor": 5
}
