{
 "cells": [
  {
   "cell_type": "markdown",
   "id": "86b519bc-2b73-4cb1-94ac-3ff14844e4cc",
   "metadata": {},
   "source": [
    "Q1, Create a vehicle class with an init method having instance variables as name_of_vehicle, max_speed\n",
    "and average_of_vehicle."
   ]
  },
  {
   "cell_type": "code",
   "execution_count": 1,
   "id": "17f3b713-1956-4efe-9ccb-b428ebf16dfb",
   "metadata": {},
   "outputs": [],
   "source": [
    "class Vehicle:\n",
    "    def __init__(self, name_of_vehicle, max_speed, average_of_vehicle):\n",
    "        self.name_of_vehicle = name_of_vehicle\n",
    "        self.max_speed = max_speed\n",
    "        self.average_of_vehicle = average_of_vehicle\n"
   ]
  },
  {
   "cell_type": "code",
   "execution_count": 2,
   "id": "6e601b70-82c7-429c-8105-9cbaedeaf7d4",
   "metadata": {},
   "outputs": [
    {
     "name": "stdout",
     "output_type": "stream",
     "text": [
      "Maruti Suzuki\n",
      "150\n",
      "30\n"
     ]
    }
   ],
   "source": [
    "car = Vehicle(\"Maruti Suzuki\", 150, 30)\n",
    "print(car.name_of_vehicle)  # Output: Maruti Suzuki\n",
    "print(car.max_speed)  # Output: 150\n",
    "print(car.average_of_vehicle)  # Output: 30\n"
   ]
  },
  {
   "cell_type": "markdown",
   "id": "bc428afa-82e4-4511-ae89-d58d6fbbfd28",
   "metadata": {},
   "source": [
    "Q2. Create a child class car from the vehicle class created in Que 1, which will inherit the vehicle class.\n",
    "Create a method named seating_capacity which takes capacity as an argument and returns the name of\n",
    "the vehicle and its seating capacity."
   ]
  },
  {
   "cell_type": "code",
   "execution_count": 3,
   "id": "00f7a18f-4e20-439b-a8e8-b8bf71644d8f",
   "metadata": {},
   "outputs": [],
   "source": [
    "class Car(Vehicle):\n",
    "    def seating_capacity(self, capacity):\n",
    "        return f\"The {self.name_of_vehicle} has a seating capacity of {capacity} people.\"\n"
   ]
  },
  {
   "cell_type": "code",
   "execution_count": 5,
   "id": "30fb9f02-a559-49ac-8c7b-644db29c5263",
   "metadata": {},
   "outputs": [
    {
     "name": "stdout",
     "output_type": "stream",
     "text": [
      "The Maruti Suzuki has a seating capacity of 5 people.\n"
     ]
    }
   ],
   "source": [
    "car = Car(\"Maruti Suzuki\", 150, 30)\n",
    "print(car.seating_capacity(5))\n"
   ]
  },
  {
   "cell_type": "markdown",
   "id": "91053c87-7459-4b52-bae3-d2be426b4698",
   "metadata": {},
   "source": [
    "Q3. What is multiple inheritance? Write a python code to demonstrate multiple inheritance."
   ]
  },
  {
   "cell_type": "markdown",
   "id": "c041d0ad-165d-4d95-a28b-2378b0df83af",
   "metadata": {},
   "source": [
    "ans:-Multiple inheritance is a feature in object-oriented programming where a class can inherit attributes and methods from multiple parent classes. This means that a child class can inherit from more than one base class, allowing it to combine and reuse functionalities from multiple sources."
   ]
  },
  {
   "cell_type": "code",
   "execution_count": 6,
   "id": "cd21a225-cfec-4c53-9494-26d18d1e19bf",
   "metadata": {},
   "outputs": [
    {
     "name": "stdout",
     "output_type": "stream",
     "text": [
      "Engine started.\n",
      "Electric motor charging.\n"
     ]
    }
   ],
   "source": [
    "class Engine:\n",
    "    def start(self):\n",
    "        print(\"Engine started.\")\n",
    "\n",
    "class ElectricMotor:\n",
    "    def charge(self):\n",
    "        print(\"Electric motor charging.\")\n",
    "\n",
    "class HybridCar(Engine, ElectricMotor):\n",
    "    pass\n",
    "\n",
    "hybrid_car = HybridCar()\n",
    "hybrid_car.start()   # Output: Engine started.\n",
    "hybrid_car.charge()  # Output: Electric motor charging.\n"
   ]
  },
  {
   "cell_type": "markdown",
   "id": "e8c8d6b6-326c-458d-8ae7-8d3d6736423a",
   "metadata": {},
   "source": [
    "Q4. What are getter and setter in python? Create a class and create a getter and a setter method in this\n",
    "class."
   ]
  },
  {
   "cell_type": "markdown",
   "id": "cacb9ff9-004e-47f4-8a3d-99c9843cd9d7",
   "metadata": {},
   "source": [
    "ans:-In Python, getters and setters are methods used to access and modify the attributes or properties of a class. They provide a way to control how the attributes are accessed and updated, allowing for data encapsulation and maintaining the class's internal state.\n",
    "\n",
    "Here's an example of a class with getter and setter methods in Python:"
   ]
  },
  {
   "cell_type": "code",
   "execution_count": 7,
   "id": "41fd10ed-52bd-441d-8289-7181dac2a115",
   "metadata": {},
   "outputs": [],
   "source": [
    "class Person:\n",
    "    def __init__(self, name):\n",
    "        self._name = name\n",
    "\n",
    "    def get_name(self):\n",
    "        return self._name\n",
    "\n",
    "    def set_name(self, new_name):\n",
    "        self._name = new_name\n"
   ]
  },
  {
   "cell_type": "code",
   "execution_count": 8,
   "id": "7e809c20-9a43-43f7-8cdf-7e37e33c2f19",
   "metadata": {},
   "outputs": [
    {
     "name": "stdout",
     "output_type": "stream",
     "text": [
      "Shelly\n",
      "Sangita\n"
     ]
    }
   ],
   "source": [
    "# Create an instance of the Person class\n",
    "person = Person(\"Shelly\")\n",
    "\n",
    "# Access the attribute using the getter\n",
    "print(person.get_name())  # Output: Shelly\n",
    "\n",
    "# Update the attribute using the setter\n",
    "person.set_name(\"Sangita\")\n",
    "\n",
    "# Access the attribute again\n",
    "print(person.get_name())  # Output: Sangita\n"
   ]
  },
  {
   "cell_type": "markdown",
   "id": "e4176d59-ca7f-4f03-a254-5a12d4530d65",
   "metadata": {},
   "source": [
    "Q5.What is method overriding in python? Write a python code to demonstrate method overriding."
   ]
  },
  {
   "cell_type": "markdown",
   "id": "7568cb5f-fa73-4894-a9c6-8dd8bca0d6e0",
   "metadata": {},
   "source": [
    "ans;- Method overriding is a concept in object-oriented programming where a derived class provides a different implementation of a method that is already defined in its parent class. This allows the derived class to modify or extend the behavior of the inherited method according to its specific requirements."
   ]
  },
  {
   "cell_type": "code",
   "execution_count": 9,
   "id": "0e1d2e78-878e-4634-be0c-97825a52d032",
   "metadata": {},
   "outputs": [
    {
     "name": "stdin",
     "output_type": "stream",
     "text": [
      "Enter the length of the rectangle:  6\n",
      "Enter the breadth of the rectangle:  7\n"
     ]
    },
    {
     "name": "stdout",
     "output_type": "stream",
     "text": [
      "Area of the rectangle: 42.0\n"
     ]
    }
   ],
   "source": [
    "class Shape:\n",
    "    def calculate_area(self):\n",
    "        print(\"Calculating area of a generic shape\")\n",
    "\n",
    "class Rectangle(Shape):\n",
    "    def calculate_area(self):\n",
    "        length = float(input(\"Enter the length of the rectangle: \"))\n",
    "        breadth = float(input(\"Enter the breadth of the rectangle: \"))\n",
    "        area = length * breadth\n",
    "        print(\"Area of the rectangle:\", area)\n",
    "\n",
    "# Create an instance of the Rectangle class\n",
    "rectangle = Rectangle()\n",
    "\n",
    "# Call the overridden method\n",
    "rectangle.calculate_area()\n"
   ]
  },
  {
   "cell_type": "code",
   "execution_count": null,
   "id": "51821156-5f3c-4035-baac-2c9f290c327f",
   "metadata": {},
   "outputs": [],
   "source": []
  }
 ],
 "metadata": {
  "kernelspec": {
   "display_name": "Python 3 (ipykernel)",
   "language": "python",
   "name": "python3"
  },
  "language_info": {
   "codemirror_mode": {
    "name": "ipython",
    "version": 3
   },
   "file_extension": ".py",
   "mimetype": "text/x-python",
   "name": "python",
   "nbconvert_exporter": "python",
   "pygments_lexer": "ipython3",
   "version": "3.10.8"
  }
 },
 "nbformat": 4,
 "nbformat_minor": 5
}
