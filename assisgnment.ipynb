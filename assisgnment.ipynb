{
  "nbformat": 4,
  "nbformat_minor": 0,
  "metadata": {
    "colab": {
      "provenance": []
    },
    "kernelspec": {
      "name": "python3",
      "display_name": "Python 3"
    },
    "language_info": {
      "name": "python"
    }
  },
  "cells": [
    {
      "cell_type": "code",
      "execution_count": null,
      "metadata": {
        "id": "Sl2S8aEwi4k0"
      },
      "outputs": [],
      "source": [
        "Q1. Which keyword is used to create a function? Create a function to return a list of odd numbers in the range of 1 to 25.\n",
        "\n",
        "ans :- The def keyword is used to create, (or define) a function.\n"
      ]
    },
    {
      "cell_type": "markdown",
      "source": [],
      "metadata": {
        "id": "IdE6PymFjIYr"
      }
    },
    {
      "cell_type": "code",
      "source": [
        "\n",
        "\n",
        "def odd_numbers(n):\n",
        "     return [x for x in range(n + 1) if x % 2 == 1]\n",
        "\n",
        "  \n"
      ],
      "metadata": {
        "id": "ovJM9WUVi9lR"
      },
      "execution_count": 2,
      "outputs": []
    },
    {
      "cell_type": "code",
      "source": [
        "odd_numbers(25)"
      ],
      "metadata": {
        "colab": {
          "base_uri": "https://localhost:8080/"
        },
        "id": "gII9BYwHi9ng",
        "outputId": "48050c15-4d5c-4c81-e422-145bfccf1a77"
      },
      "execution_count": 4,
      "outputs": [
        {
          "output_type": "execute_result",
          "data": {
            "text/plain": [
              "[1, 3, 5, 7, 9, 11, 13, 15, 17, 19, 21, 23, 25]"
            ]
          },
          "metadata": {},
          "execution_count": 4
        }
      ]
    },
    {
      "cell_type": "code",
      "source": [
        "Q2. Why *args and **kwargs is used in some functions? Create a function each for *args and **kwargs to\n",
        "demonstrate their use."
      ],
      "metadata": {
        "id": "Bk64uSYci9pj"
      },
      "execution_count": null,
      "outputs": []
    },
    {
      "cell_type": "markdown",
      "source": [],
      "metadata": {
        "id": "OUUa85cHjltw"
      }
    },
    {
      "cell_type": "code",
      "source": [
        "ans:- The special syntax *args in function definitions in Python is used to pass a variable number of arguments to a function. It is used to pass a non-keyworded, variable-length argument list. \n",
        "\n",
        "\n",
        "    Python passes variable length non keyword argument to function using *args but we cannot use this to pass keyword argument. For this problem Python has got a solution called **kwargs, it allows us to pass the variable length of keyword arguments to the function.\n",
        "\n",
        "In the function, we use the double asterisk ** before the parameter name to denote this type of argument. The arguments are passed as a dictionary and these arguments make a dictionary inside function with name same as the parameter excluding double asterisk **."
      ],
      "metadata": {
        "id": "8mArIg5Ci9r9"
      },
      "execution_count": null,
      "outputs": []
    },
    {
      "cell_type": "markdown",
      "source": [],
      "metadata": {
        "id": "Abn7qaswjvX2"
      }
    },
    {
      "cell_type": "markdown",
      "source": [],
      "metadata": {
        "id": "9cN2p3ZZjoJ8"
      }
    },
    {
      "cell_type": "code",
      "source": [
        " def myFun(*argv):\n",
        "    for arg in argv:\n",
        "        print(arg)\n",
        " \n",
        " \n",
        "myFun('Hello', 'Welcome', 'to', 'pwskills')"
      ],
      "metadata": {
        "colab": {
          "base_uri": "https://localhost:8080/"
        },
        "id": "VS8-aUIKi9uE",
        "outputId": "8218d48c-3766-474e-aae5-57b475b43d32"
      },
      "execution_count": 16,
      "outputs": [
        {
          "output_type": "stream",
          "name": "stdout",
          "text": [
            "Hello\n",
            "Welcome\n",
            "to\n",
            "pwskills\n"
          ]
        }
      ]
    },
    {
      "cell_type": "code",
      "source": [
        "def myFun(**kwargs):\n",
        "    for key, value in kwargs.items():\n",
        "        print(\"%s == %s\" % (key, value))\n",
        " \n",
        "\n",
        "myFun(first='data', mid='science', last='masters')"
      ],
      "metadata": {
        "colab": {
          "base_uri": "https://localhost:8080/"
        },
        "id": "2qq-OMenj3ip",
        "outputId": "87ebdaad-f845-4560-922c-7742a1fd5f88"
      },
      "execution_count": 17,
      "outputs": [
        {
          "output_type": "stream",
          "name": "stdout",
          "text": [
            "first == data\n",
            "mid == science\n",
            "last == masters\n"
          ]
        }
      ]
    },
    {
      "cell_type": "code",
      "source": [
        "What is an iterator in python? Name the method used to initialise the iterator object and the method\n",
        "used for iteration. Use these methods to print the first five elements of the given list [2, 4, 6, 8, 10, 12, 14, 16,\n",
        "18, 20]."
      ],
      "metadata": {
        "id": "qZDgILzfi9wD"
      },
      "execution_count": null,
      "outputs": []
    },
    {
      "cell_type": "markdown",
      "source": [],
      "metadata": {
        "id": "YiZc_bOTlMty"
      }
    },
    {
      "cell_type": "markdown",
      "source": [],
      "metadata": {
        "id": "wJo8x2YhlLFU"
      }
    },
    {
      "cell_type": "code",
      "source": [
        "ans:- In Python, an iterator is an object that allows you to iterate over collections of data, such as lists, tuples, dictionaries, and sets.\n",
        "Iter() method is used to initialize the iterator object so that the instance of this object can be used for iterating."
      ],
      "metadata": {
        "id": "i1McRJGqi9yG"
      },
      "execution_count": null,
      "outputs": []
    },
    {
      "cell_type": "markdown",
      "source": [],
      "metadata": {
        "id": "WDUYNk3flqq7"
      }
    },
    {
      "cell_type": "markdown",
      "source": [],
      "metadata": {
        "id": "cYHzg9QxlcKN"
      }
    },
    {
      "cell_type": "code",
      "source": [
        "list =[2, 4, 6, 8, 10, 12, 14, 16,18,20]"
      ],
      "metadata": {
        "id": "vWNTRYcPi90q"
      },
      "execution_count": 18,
      "outputs": []
    },
    {
      "cell_type": "code",
      "source": [
        "list = [2,4,6,8,10]\n",
        "iter = iter(list) # passing list object\n",
        "\n",
        "print(next(iter))\n",
        "print(next(iter))\n",
        "print(next(iter))\n",
        "print(next(iter))\n",
        "print(next(iter))"
      ],
      "metadata": {
        "colab": {
          "base_uri": "https://localhost:8080/"
        },
        "id": "QO8lxwIEi93H",
        "outputId": "de614cde-a9d3-4416-a275-dc98228dc9c9"
      },
      "execution_count": 19,
      "outputs": [
        {
          "output_type": "stream",
          "name": "stdout",
          "text": [
            "2\n",
            "4\n",
            "6\n",
            "8\n",
            "10\n"
          ]
        }
      ]
    },
    {
      "cell_type": "code",
      "source": [
        "Q4. What is a generator function in python? Why yield keyword is used? Give an example of a generator\n",
        "function."
      ],
      "metadata": {
        "id": "JeV2jCJJi95X"
      },
      "execution_count": null,
      "outputs": []
    },
    {
      "cell_type": "markdown",
      "source": [],
      "metadata": {
        "id": "VIzfXBXPnBDm"
      }
    },
    {
      "cell_type": "code",
      "source": [
        "ans:-  Python generator function allows you to declare a function that behaves like an iterator, providing a faster and easier way to create iterators. \n",
        "They can be used on an abstract container of data to turn it into an iterable object like lists,\n",
        " dictionaries and strings.\n",
        " the yield keyword will convert an expression that is specified along with it to a generator object and return it to the caller. \n",
        " Hence, if we want to get the values stored inside the generator object, we need to iterate over it."
      ],
      "metadata": {
        "id": "Ft2wUzw-i97r"
      },
      "execution_count": null,
      "outputs": []
    },
    {
      "cell_type": "markdown",
      "source": [],
      "metadata": {
        "id": "MbITrqRnnxc-"
      }
    },
    {
      "cell_type": "markdown",
      "source": [],
      "metadata": {
        "id": "Utr4p-GEnRs_"
      }
    },
    {
      "cell_type": "markdown",
      "source": [],
      "metadata": {
        "id": "djzBcaXTnNLS"
      }
    },
    {
      "cell_type": "code",
      "source": [
        "# A generator function that yields 1 for first time,\n",
        "# 2 second time and 3 third time\n",
        "def simpleGeneratorFun():\n",
        "    yield 1           \n",
        "    yield 2           \n",
        "    yield 3           \n",
        "  \n",
        "# Driver code to check above generator function\n",
        "for value in simpleGeneratorFun():\n",
        "    print(value)\n"
      ],
      "metadata": {
        "colab": {
          "base_uri": "https://localhost:8080/"
        },
        "id": "ocH5ezuTi99-",
        "outputId": "2907c5cf-a6a7-436c-cec0-b187cbce37f0"
      },
      "execution_count": 20,
      "outputs": [
        {
          "output_type": "stream",
          "name": "stdout",
          "text": [
            "1\n",
            "2\n",
            "3\n"
          ]
        }
      ]
    },
    {
      "cell_type": "code",
      "source": [
        "Q5. Create a generator function for prime numbers less than 1000. Use the next() method to print the\n",
        "first 20 prime numbers."
      ],
      "metadata": {
        "id": "9Zpe9cs0i-AQ"
      },
      "execution_count": null,
      "outputs": []
    },
    {
      "cell_type": "markdown",
      "source": [],
      "metadata": {
        "id": "Jf1HemoUsKc4"
      }
    },
    {
      "cell_type": "code",
      "source": [
        "def Prime_seq(num):\n",
        "    for i in range(2,num):\n",
        "        if prime(i) == True:\n",
        "            print(i,end = \" \")\n",
        "        else:\n",
        "            pass\n",
        "\n",
        "num = int(input(\"Enter the range: \"))\n",
        "prime = lambda num: all( num%x != 0 for x in range(2, int(num**.5)+1) )\n",
        "Prime_seq(num)"
      ],
      "metadata": {
        "colab": {
          "base_uri": "https://localhost:8080/"
        },
        "id": "xrOQgO8Ei-FB",
        "outputId": "23256cf1-944b-404f-c2a6-300874c97d99"
      },
      "execution_count": 31,
      "outputs": [
        {
          "output_type": "stream",
          "name": "stdout",
          "text": [
            "Enter the range: 1000\n",
            "2 3 5 7 11 13 17 19 23 29 31 37 41 43 47 53 59 61 67 71 73 79 83 89 97 101 103 107 109 113 127 131 137 139 149 151 157 163 167 173 179 181 191 193 197 199 211 223 227 229 233 239 241 251 257 263 269 271 277 281 283 293 307 311 313 317 331 337 347 349 353 359 367 373 379 383 389 397 401 409 419 421 431 433 439 443 449 457 461 463 467 479 487 491 499 503 509 521 523 541 547 557 563 569 571 577 587 593 599 601 607 613 617 619 631 641 643 647 653 659 661 673 677 683 691 701 709 719 727 733 739 743 751 757 761 769 773 787 797 809 811 821 823 827 829 839 853 857 859 863 877 881 883 887 907 911 919 929 937 941 947 953 967 971 977 983 991 997 "
          ]
        }
      ]
    },
    {
      "cell_type": "code",
      "source": [],
      "metadata": {
        "id": "i93BkJFrs9DX"
      },
      "execution_count": 30,
      "outputs": []
    },
    {
      "cell_type": "code",
      "source": [],
      "metadata": {
        "id": "0mtzk4cTs9J4"
      },
      "execution_count": null,
      "outputs": []
    },
    {
      "cell_type": "code",
      "source": [],
      "metadata": {
        "id": "94YKJL2Li-HR"
      },
      "execution_count": null,
      "outputs": []
    },
    {
      "cell_type": "code",
      "source": [],
      "metadata": {
        "id": "5HL-EJ0Ui-JR"
      },
      "execution_count": null,
      "outputs": []
    },
    {
      "cell_type": "code",
      "source": [],
      "metadata": {
        "id": "wDX6pyV5i-MJ"
      },
      "execution_count": null,
      "outputs": []
    }
  ]
}