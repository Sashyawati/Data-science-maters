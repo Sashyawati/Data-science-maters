{
 "cells": [
  {
   "cell_type": "markdown",
   "id": "1c101b17-f9dc-4f09-ab89-a1c970ba172c",
   "metadata": {},
   "source": [
    "2nd february assignment"
   ]
  },
  {
   "cell_type": "markdown",
   "id": "e298ec0e-2abf-4d47-9ff1-7987adfe6daa",
   "metadata": {},
   "source": [
    "Q1. What are the characteristics of the tuples? Is tuple immutable?"
   ]
  },
  {
   "cell_type": "markdown",
   "id": "5718c41e-c840-44a7-b123-565dd2819028",
   "metadata": {},
   "source": [
    "ans: Characteristics of Tuples:-\n",
    "They are indexed.\n",
    "Tuples are ordered.\n",
    "They can contain duplicate items.\n",
    "\n",
    "  Tuples are immutable."
   ]
  },
  {
   "cell_type": "markdown",
   "id": "41177cb8-b25c-40ac-89c1-59d37b66e82a",
   "metadata": {},
   "source": [
    "Q2. What are the two tuple methods in python? Give an example of each method. Give a reason why\n",
    "tuples have only two in-built methods as compared to Lists."
   ]
  },
  {
   "cell_type": "markdown",
   "id": "bfa8f6a7-1dad-4e65-b2c1-a475c6c34b22",
   "metadata": {},
   "source": [
    "ans:- The two tuple methods are 1. count()\tReturns the number of times a specified value occurs in a tuple.\n",
    "index()\tSearches the tuple for a specified value and returns the position of where it was found"
   ]
  },
  {
   "cell_type": "markdown",
   "id": "3d45fc8e-d395-4620-bdae-2ed1245aef8a",
   "metadata": {},
   "source": [
    "Example 1: Using the Tuple count() method \n"
   ]
  },
  {
   "cell_type": "code",
   "execution_count": 2,
   "id": "7c1d9677-b1e5-4b05-95f0-5bab714cb855",
   "metadata": {},
   "outputs": [
    {
     "name": "stdout",
     "output_type": "stream",
     "text": [
      "Count of 3 in Tuple1 is: 3\n",
      "Count of Python in Tuple2 is: 3\n"
     ]
    }
   ],
   "source": [
    "# Creating tuples\n",
    "Tuple1 = (0, 1, 2, 3, 2, 3, 1, 3, 2)\n",
    "Tuple2 = ('python', 'geek', 'python', \n",
    "          'for', 'java', 'python')\n",
    "  \n",
    "# count the appearance of 3\n",
    "res = Tuple1.count(3)\n",
    "print('Count of 3 in Tuple1 is:', res)\n",
    "  \n",
    "# count the appearance of python\n",
    "res = Tuple2.count('python')\n",
    "print('Count of Python in Tuple2 is:', res)"
   ]
  },
  {
   "cell_type": "markdown",
   "id": "ab7ce121-5d0b-4d6e-bd50-4bb26e6e0eba",
   "metadata": {},
   "source": [
    "Example 2: Counting tuples and lists as elements in Tuples"
   ]
  },
  {
   "cell_type": "code",
   "execution_count": 3,
   "id": "4f4c775a-b1e5-413b-a972-b4798dda7c61",
   "metadata": {},
   "outputs": [
    {
     "name": "stdout",
     "output_type": "stream",
     "text": [
      "First occurrence of 3 is 3\n",
      "First occurrence of 3 after 4th index is: 5\n"
     ]
    }
   ],
   "source": [
    "# Creating tuples\n",
    "Tuple = (0, 1, 2, 3, 2, 3, 1, 3, 2)\n",
    "  \n",
    "# getting the index of 3\n",
    "res = Tuple.index(3)\n",
    "print('First occurrence of 3 is', res)\n",
    "  \n",
    "# getting the index of 3 after 4th\n",
    "# index\n",
    "res = Tuple.index(3, 4)\n",
    "print('First occurrence of 3 after 4th index is:', res)"
   ]
  },
  {
   "cell_type": "markdown",
   "id": "d0f13193-503d-4980-8dc0-e113e22e5b1b",
   "metadata": {},
   "source": [
    "The key difference between tuples and lists is that while tuples are immutable objects, lists are mutable. This means tuples cannot be changed while lists can be modified. Tuples are also more memory efficient than the lists. When it comes to time efficiency, tuples have a slight advantage over lists especially when we consider lookup value. If we have data that shouldn’t change, we should choose tuple data type over lists."
   ]
  },
  {
   "cell_type": "markdown",
   "id": "ac95d259-dceb-4469-8a5f-3d8983e1d66c",
   "metadata": {},
   "source": [
    "Q3. Which collection datatypes in python do not allow duplicate items? Write a code using a set to remove\n",
    "duplicates from the given list.\n",
    "\n",
    "\n",
    "List = [1, 1, 1, 2, 1, 3, 1, 4, 2, 1, 2, 2, 2, 3, 2, 4, 3, 1, 3, 2, 3, 3, 3, 4, 4, 1, 4, 2, 4, 3, 4, 4]"
   ]
  },
  {
   "cell_type": "markdown",
   "id": "4f3f6a25-b2ff-4263-b15e-7e24e7860d9f",
   "metadata": {},
   "source": [
    "ans:-  Sets are a collection that is unordered and unindexed. They are mutable (changeable) but do not allow duplicate values to be held."
   ]
  },
  {
   "cell_type": "code",
   "execution_count": 5,
   "id": "8abdd5a3-c69c-4ec3-ad41-fcc9dc502039",
   "metadata": {},
   "outputs": [
    {
     "name": "stdout",
     "output_type": "stream",
     "text": [
      "Original:  [1, 1, 1, 2, 1, 3, 1, 4, 2, 1, 2, 2, 2, 3, 2, 4, 3, 1, 3, 2, 3, 3, 3, 4, 4, 1, 4, 2, 4, 3, 4, 4]\n",
      " after removing duplicate elements:  [1, 2, 3, 4]\n"
     ]
    }
   ],
   "source": [
    "List = [1, 1, 1, 2, 1, 3, 1, 4, 2, 1, 2, 2, 2, 3, 2, 4, 3, 1, 3, 2, 3, 3, 3, 4, 4, 1, 4, 2, 4, 3, 4, 4]\n",
    "print(\"Original: \",List)\n",
    "res = [*set(List)]\n",
    "print(\" after removing duplicate elements: \", res)"
   ]
  },
  {
   "cell_type": "markdown",
   "id": "5e2035bd-2791-4fc8-85da-ccab5a7a176a",
   "metadata": {},
   "source": [
    "Q4. Explain the difference between the union() and update() methods for a set. Give an example of\n",
    "each method."
   ]
  },
  {
   "cell_type": "markdown",
   "id": "9e2ebf43-0e01-4356-bfdd-c439951ec4ae",
   "metadata": {},
   "source": [
    "ans:- Update() adds all missing elements to the set on which it is called whereas set. union() creates a new set."
   ]
  },
  {
   "cell_type": "code",
   "execution_count": 6,
   "id": "de063e37-a28d-45f0-af96-e786742e558d",
   "metadata": {},
   "outputs": [
    {
     "name": "stdout",
     "output_type": "stream",
     "text": [
      "{'red', 'yellow', 'orange', 'blue', 'green'}\n"
     ]
    }
   ],
   "source": [
    "# Update the set by adding items from other set\n",
    "A = {'red', 'green', 'blue'}\n",
    "B = {'yellow', 'red', 'orange'}\n",
    "\n",
    "A.update(B)\n",
    "print(A)\n",
    "# Prints {'blue', 'green', 'yellow', 'orange', 'red'}"
   ]
  },
  {
   "cell_type": "code",
   "execution_count": 7,
   "id": "d04940a9-dc75-4de9-afe0-00c80b510592",
   "metadata": {},
   "outputs": [
    {
     "name": "stdout",
     "output_type": "stream",
     "text": [
      "{'red', 'yellow', 'orange', 'blue', 'green'}\n"
     ]
    }
   ],
   "source": [
    "# Perform union of two sets\n",
    "A = {'red', 'green', 'blue'}\n",
    "B = {'yellow', 'red', 'orange'}\n",
    "\n",
    "print(A.union(B))\n",
    "# Prints {'blue', 'green', 'yellow', 'orange', 'red'}"
   ]
  },
  {
   "cell_type": "markdown",
   "id": "9d3e9112-efdc-40da-823a-0f9dd3b5b64e",
   "metadata": {},
   "source": [
    "Q5. What is a dictionary? Give an example. Also, state whether a dictionary is ordered or unordered."
   ]
  },
  {
   "cell_type": "markdown",
   "id": "e2a4e1dd-5464-44a4-a6b6-8f7e4b79ea8b",
   "metadata": {},
   "source": [
    "ans:- \n",
    "Dictionaries are used to store data values in key:value pairs. A dictionary is a collection which is ordered, changeable and do not allow duplicates. As of Python version 3.7, dictionaries are ordered. In Python 3.6 and earlier, dictionaries are unordered."
   ]
  },
  {
   "cell_type": "code",
   "execution_count": 8,
   "id": "35725615-f08d-48cc-80a5-d39fbb5a04ec",
   "metadata": {},
   "outputs": [
    {
     "name": "stdout",
     "output_type": "stream",
     "text": [
      "{1: 'shalini', 2: 'deka', 3: 'girl'}\n"
     ]
    }
   ],
   "source": [
    "##Example\n",
    "Dict = {1: 'shalini', 2: 'deka', 3: 'girl'}\n",
    "print(Dict)"
   ]
  },
  {
   "cell_type": "markdown",
   "id": "a1cb5efc-19d4-4185-9175-a58f3384b5ea",
   "metadata": {},
   "source": [
    "Q6. Can we create a nested dictionary? If so, please give an example by creating a simple one-level\n",
    "nested dictionary."
   ]
  },
  {
   "cell_type": "markdown",
   "id": "842e093c-2fcc-4d13-b1e3-63e8e7411bdc",
   "metadata": {},
   "source": [
    "ans:-  Nested dictionary can be created in Python by placing the comma-separated dictionaries enclosed within braces."
   ]
  },
  {
   "cell_type": "code",
   "execution_count": 9,
   "id": "3fe8b86c-3be2-4870-abb5-9d3713cd2c2c",
   "metadata": {},
   "outputs": [
    {
     "name": "stdout",
     "output_type": "stream",
     "text": [
      "{1: {'name': 'John', 'age': '27', 'sex': 'Male'}, 2: {'name': 'Marie', 'age': '22', 'sex': 'Female'}}\n"
     ]
    }
   ],
   "source": [
    "##Example\n",
    "people = {1: {'name': 'John', 'age': '27', 'sex': 'Male'},\n",
    "          2: {'name': 'Marie', 'age': '22', 'sex': 'Female'}}\n",
    "\n",
    "print(people)"
   ]
  },
  {
   "cell_type": "markdown",
   "id": "82dd1de2-3207-4c32-b916-4bb097fccdeb",
   "metadata": {},
   "source": [
    "Q7. Using setdefault() method, create key named topics in the given dictionary and also add the value of\n",
    "the key as this list ['Python', 'Machine Learning’, 'Deep Learning']\n",
    "\n",
    "\n",
    "dict1 = {'language' : 'Python', 'course': 'Data Science Masters'}"
   ]
  },
  {
   "cell_type": "code",
   "execution_count": 15,
   "id": "1cf22b5a-b067-410e-a767-ec5a8dd4eccc",
   "metadata": {},
   "outputs": [
    {
     "ename": "SyntaxError",
     "evalue": "'{' was never closed (772643616.py, line 2)",
     "output_type": "error",
     "traceback": [
      "\u001b[0;36m  Cell \u001b[0;32mIn[15], line 2\u001b[0;36m\u001b[0m\n\u001b[0;31m    dict1 = {\u001b[0m\n\u001b[0m            ^\u001b[0m\n\u001b[0;31mSyntaxError\u001b[0m\u001b[0;31m:\u001b[0m '{' was never closed\n"
     ]
    }
   ],
   "source": [
    "##answer\n",
    "dict1 = {\n",
    "'topics' : 'Python', 'Machine Learning’, 'Deep Learning', \n",
    " 'language' :'Python', \n",
    "'course': 'Data Science Masters',\n",
    "}                \n",
    "\n",
    "x = dict1.setdefault(\"course\", \"white\")\n",
    "print(x)\n",
    "         "
   ]
  },
  {
   "cell_type": "code",
   "execution_count": null,
   "id": "a7d0716b-e95f-46db-ad51-d101b96a0df9",
   "metadata": {},
   "outputs": [],
   "source": []
  },
  {
   "cell_type": "code",
   "execution_count": null,
   "id": "7286e985-0b4e-4e84-afe5-b0028e7defde",
   "metadata": {},
   "outputs": [],
   "source": []
  },
  {
   "cell_type": "markdown",
   "id": "b62b3b82-41cd-4d9e-a414-1c283a05bf57",
   "metadata": {},
   "source": [
    "Q8. What are the three view objects in dictionaries? Use the three in-built methods in python to display\n",
    "these three view objects for the given dictionary.\n",
    "\n",
    "\n",
    "dict1 = {'Sport': 'Cricket' , 'Teams': ['India', 'Australia', 'England', 'South Africa', 'Sri Lanka', 'New Zealand']}"
   ]
  },
  {
   "cell_type": "markdown",
   "id": "6a298422-08b3-4fb4-a9e2-1257a1e887d7",
   "metadata": {},
   "source": [
    "ans:- The main view objects of dictionary in python are keys, values and items."
   ]
  },
  {
   "cell_type": "code",
   "execution_count": 17,
   "id": "dec13280-c435-49e6-8a85-5f01ae1486b1",
   "metadata": {},
   "outputs": [
    {
     "name": "stdout",
     "output_type": "stream",
     "text": [
      "['India', 'Australia', 'England', 'South Africa', 'Sri Lanka', 'New Zealand']\n"
     ]
    }
   ],
   "source": [
    "dict1 = {'Sport': 'Cricket' , 'Teams': ['India', 'Australia', 'England', 'South Africa', 'Sri Lanka', 'New Zealand']}\n",
    "print(dict1.get('Teams'))\n",
    "\n"
   ]
  },
  {
   "cell_type": "code",
   "execution_count": 18,
   "id": "1a74b424-d736-47f0-ac0b-ed2d1dd59f3e",
   "metadata": {},
   "outputs": [
    {
     "data": {
      "text/plain": [
       "['Cricket',\n",
       " ['India', 'Australia', 'England', 'South Africa', 'Sri Lanka', 'New Zealand']]"
      ]
     },
     "execution_count": 18,
     "metadata": {},
     "output_type": "execute_result"
    }
   ],
   "source": [
    "dict1 = {'Sport': 'Cricket' , 'Teams': ['India', 'Australia', 'England', 'South Africa', 'Sri Lanka', 'New Zealand']}\n",
    "list(dict1.values())"
   ]
  },
  {
   "cell_type": "code",
   "execution_count": 19,
   "id": "9c9f6d60-ba81-4dfd-92d8-827032774160",
   "metadata": {},
   "outputs": [
    {
     "data": {
      "text/plain": [
       "['Sport', 'Teams']"
      ]
     },
     "execution_count": 19,
     "metadata": {},
     "output_type": "execute_result"
    }
   ],
   "source": [
    "##example\n",
    "dict1 = {'Sport': 'Cricket' , 'Teams': ['India', 'Australia', 'England', 'South Africa', 'Sri Lanka', 'New Zealand']}\n",
    "list(dict1.keys())"
   ]
  },
  {
   "cell_type": "code",
   "execution_count": null,
   "id": "2a1dfd0c-4424-4602-a57a-c87efca6a677",
   "metadata": {},
   "outputs": [],
   "source": []
  },
  {
   "cell_type": "code",
   "execution_count": null,
   "id": "ecf7c29d-77b9-4761-8ba1-d41d5ef68dc1",
   "metadata": {},
   "outputs": [],
   "source": []
  },
  {
   "cell_type": "code",
   "execution_count": null,
   "id": "1d02eba7-11b8-4d0e-bf11-687eb551c5aa",
   "metadata": {},
   "outputs": [],
   "source": []
  },
  {
   "cell_type": "code",
   "execution_count": null,
   "id": "fdd54740-e029-49dd-909a-3fe47ac87b0e",
   "metadata": {},
   "outputs": [],
   "source": []
  },
  {
   "cell_type": "code",
   "execution_count": null,
   "id": "711f1cdc-6e86-4abb-b745-80b415f75488",
   "metadata": {},
   "outputs": [],
   "source": []
  },
  {
   "cell_type": "code",
   "execution_count": null,
   "id": "774d4a67-ddee-491b-9da0-b0d38488f075",
   "metadata": {},
   "outputs": [],
   "source": []
  }
 ],
 "metadata": {
  "kernelspec": {
   "display_name": "Python 3 (ipykernel)",
   "language": "python",
   "name": "python3"
  },
  "language_info": {
   "codemirror_mode": {
    "name": "ipython",
    "version": 3
   },
   "file_extension": ".py",
   "mimetype": "text/x-python",
   "name": "python",
   "nbconvert_exporter": "python",
   "pygments_lexer": "ipython3",
   "version": "3.10.8"
  }
 },
 "nbformat": 4,
 "nbformat_minor": 5
}
