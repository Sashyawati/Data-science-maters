{
 "cells": [
  {
   "cell_type": "markdown",
   "id": "37af4a42-2d7a-406f-bbfe-e79e1a375dea",
   "metadata": {},
   "source": [
    "Q1. Wh\n",
    "t is\n",
    "n Ex,eption in p\n",
    "\n",
    "thon? Write the differen,e etween Ex,eptions\n",
    "nd $\n",
    "nt\n",
    "x errors"
   ]
  },
  {
   "cell_type": "markdown",
   "id": "a1cc5219-2ef2-4a6e-8cc2-2b506d0ed7a9",
   "metadata": {},
   "source": [
    "ans:- In Python, an exception is an event that occurs during the execution of a program that disrupts the normal flow of the program's instructions. When an exceptional situation arises, Python raises an exception, indicating that there is an error or unexpected condition that the program cannot handle by itself. This helps programmers to identify and handle errors gracefully, preventing crashes and providing a way to recover from unexpected situations."
   ]
  },
  {
   "cell_type": "markdown",
   "id": "d5b94152-8564-4aeb-a530-fd5f49dd986d",
   "metadata": {},
   "source": [
    "Exceptions and syntax errors are both types of errors that can occur in Python, but they differ in nature and when they occur:\n",
    "\n",
    "1. Syntax Errors:\n",
    "   - Definition: Syntax errors occur when the Python interpreter encounters code that violates the language's grammar rules.\n",
    "   - Occurrence: Syntax errors are identified during the parsing phase, which is the first step of the program execution, before the code is executed.\n",
    "   - Example: Common syntax errors include misspelled keywords, missing colons, incorrect indentation, and unmatched parentheses.\n",
    "   - Handling: You cannot handle syntax errors using try-except blocks, as they prevent the program from running entirely. You need to fix the syntax errors before the program can execute correctly.\n",
    "\n",
    "2. Exceptions:\n",
    "   - Definition: Exceptions occur during the execution of a program when something unexpected or erroneous happens.\n",
    "   - Occurrence: Exceptions occur at runtime when certain conditions arise, such as dividing by zero, accessing an invalid index in a list, or trying to perform unsupported operations.\n",
    "   - Example: Common exceptions include ValueError (e.g., when trying to convert a string that does not represent a valid number to an integer), ZeroDivisionError (e.g., dividing by zero), and IndexError (e.g., trying to access an element outside the bounds of a list).\n",
    "   - Handling: Exceptions can be handled using try-except blocks. By enclosing potentially problematic code within a try block, you can catch and handle the exception in an except block, allowing the program to continue running instead of crashing.\n",
    "\n",
    "In summary, syntax errors occur during the parsing phase before the program executes and prevent the code from running at all until the errors are fixed. On the other hand, exceptions occur during program execution and can be handled using try-except blocks, allowing the program to gracefully recover from unexpected conditions or errors."
   ]
  },
  {
   "cell_type": "markdown",
   "id": "02106d17-6d50-4aa3-87a5-28fd8c3c3b25",
   "metadata": {},
   "source": [
    "q:-2 Wht hppens when an exception is not hndled? Explin with an exmple"
   ]
  },
  {
   "cell_type": "markdown",
   "id": "2c0e2732-7af0-4dfd-8426-04ca51ef095c",
   "metadata": {},
   "source": [
    "ans:- When an exception is not handled, it leads to an \"unhandled exception\" scenario. In this situation, the program's normal flow is disrupted, and Python will display an error traceback, indicating the location and nature of the unhandled exception. The program execution will be halted, and the script will terminate prematurely."
   ]
  },
  {
   "cell_type": "code",
   "execution_count": 4,
   "id": "4ff3063b-a860-4dce-9309-46deb43d9af8",
   "metadata": {},
   "outputs": [
    {
     "ename": "ZeroDivisionError",
     "evalue": "division by zero",
     "output_type": "error",
     "traceback": [
      "\u001b[0;31m---------------------------------------------------------------------------\u001b[0m",
      "\u001b[0;31mZeroDivisionError\u001b[0m                         Traceback (most recent call last)",
      "Cell \u001b[0;32mIn[4], line 8\u001b[0m\n\u001b[1;32m      5\u001b[0m num1 \u001b[38;5;241m=\u001b[39m \u001b[38;5;241m10\u001b[39m\n\u001b[1;32m      6\u001b[0m num2 \u001b[38;5;241m=\u001b[39m \u001b[38;5;241m0\u001b[39m\n\u001b[0;32m----> 8\u001b[0m result \u001b[38;5;241m=\u001b[39m \u001b[43mdivide_numbers\u001b[49m\u001b[43m(\u001b[49m\u001b[43mnum1\u001b[49m\u001b[43m,\u001b[49m\u001b[43m \u001b[49m\u001b[43mnum2\u001b[49m\u001b[43m)\u001b[49m\n\u001b[1;32m      9\u001b[0m \u001b[38;5;28mprint\u001b[39m(\u001b[38;5;124m\"\u001b[39m\u001b[38;5;124mResult:\u001b[39m\u001b[38;5;124m\"\u001b[39m, result)\n",
      "Cell \u001b[0;32mIn[4], line 2\u001b[0m, in \u001b[0;36mdivide_numbers\u001b[0;34m(a, b)\u001b[0m\n\u001b[1;32m      1\u001b[0m \u001b[38;5;28;01mdef\u001b[39;00m \u001b[38;5;21mdivide_numbers\u001b[39m(a, b):\n\u001b[0;32m----> 2\u001b[0m     result \u001b[38;5;241m=\u001b[39m \u001b[43ma\u001b[49m\u001b[43m \u001b[49m\u001b[38;5;241;43m/\u001b[39;49m\u001b[43m \u001b[49m\u001b[43mb\u001b[49m\n\u001b[1;32m      3\u001b[0m     \u001b[38;5;28;01mreturn\u001b[39;00m result\n",
      "\u001b[0;31mZeroDivisionError\u001b[0m: division by zero"
     ]
    }
   ],
   "source": [
    "def divide_numbers(a, b):\n",
    "    result = a / b\n",
    "    return result\n",
    "\n",
    "num1 = 10\n",
    "num2 = 0\n",
    "\n",
    "result = divide_numbers(num1, num2)\n",
    "print(\"Result:\", result)\n"
   ]
  },
  {
   "cell_type": "markdown",
   "id": "477ecd6b-1169-4d38-a0ed-8624eb32e0a6",
   "metadata": {},
   "source": [
    "Q.3  Which Python statements are used to catch and handle exceptions? Explain with an exmple"
   ]
  },
  {
   "cell_type": "markdown",
   "id": "60c75a85-8847-4003-b639-f7a8e1f1f34c",
   "metadata": {},
   "source": [
    "ans:- In Python, the `try`, `except`, `else`, and `finally` statements are used to catch and handle exceptions. These statements provide a structured way to deal with potential errors and maintain the program's execution flow even in the presence of exceptions.\n",
    "\n",
    "\n",
    "\n",
    "\n"
   ]
  },
  {
   "cell_type": "markdown",
   "id": "e2556090-9072-44fa-9d30-df5645a3a0d5",
   "metadata": {},
   "source": [
    "try:\n",
    "    # Code that may raise an exception\n",
    "    # ...\n",
    "except ExceptionType1:\n",
    "    # Code to handle ExceptionType1\n",
    "    # ...\n",
    "except ExceptionType2:\n",
    "    # Code to handle ExceptionType2\n",
    "    # ...\n",
    "else:\n",
    "    # Code to be executed if no exception occurred\n",
    "    # ...\n",
    "finally:\n",
    "    # Code to be executed regardless of whether an exception occurred or not\n",
    "    # ...\n"
   ]
  },
  {
   "cell_type": "code",
   "execution_count": 6,
   "id": "fba6a330-7382-44c3-959b-fb1d9ff1ac87",
   "metadata": {},
   "outputs": [
    {
     "name": "stdout",
     "output_type": "stream",
     "text": [
      "Division successful.\n",
      "This will always be executed.\n",
      "Result: 5.0\n"
     ]
    }
   ],
   "source": [
    "def divide_numbers(a, b):\n",
    "    try:\n",
    "        result = a / b\n",
    "    except ZeroDivisionError:\n",
    "        print(\"Error: Cannot divide by zero.\")\n",
    "        result = None\n",
    "    except TypeError:\n",
    "        print(\"Error: Both arguments should be numbers.\")\n",
    "        result = None\n",
    "    else:\n",
    "        print(\"Division successful.\")\n",
    "    finally:\n",
    "        print(\"This will always be executed.\")\n",
    "    \n",
    "    return result\n",
    "\n",
    "num1 = 10\n",
    "num2 = 2\n",
    "\n",
    "result = divide_numbers(num1, num2)\n",
    "print(\"Result:\", result)\n"
   ]
  },
  {
   "cell_type": "markdown",
   "id": "92704ba0-a011-4181-bc77-6e5111ba8c01",
   "metadata": {},
   "source": [
    "Q.5  What are the Custom Exceptions in python? Why do we need Custom Exceptions? Explain with an exmple"
   ]
  },
  {
   "cell_type": "markdown",
   "id": "2c7ae24d-eb59-41a3-bef4-92bccb1caacd",
   "metadata": {},
   "source": [
    "ans:- In Python, custom exceptions are user-defined exceptions that allow you to create your own error types, tailored to your specific needs. While Python provides built-in exceptions like TypeError, ValueError, IndexError, etc., sometimes these may not fully capture the semantics of the errors you want to handle in your code. Custom exceptions allow you to define more meaningful and specific error classes, making your code more organized, readable, and maintainable.\n",
    "\n",
    "Custom exceptions are beneficial for the following reasons:\n",
    "\n",
    "Clarity: Custom exceptions provide descriptive names for specific error scenarios, making it easier for developers to understand the cause of the exception.\n",
    "\n",
    "Modularity: Using custom exceptions enhances code modularity by encapsulating error handling logic within the exception class. This promotes separation of concerns and improves code readability.\n",
    "\n",
    "Error Handling: Custom exceptions can be used to categorize different types of errors and implement specialized error handling strategies for each.\n",
    "\n",
    "Here's an example to illustrate the use of custom exceptions:\n",
    "\n",
    "Let's say we are building a banking application and need to handle situations where the user's account balance goes below zero when performing a transaction. Instead of using a general Exception or ValueError, we can define a custom exception class like InsufficientBalanceError to handle this specific scenario."
   ]
  },
  {
   "cell_type": "code",
   "execution_count": 7,
   "id": "a866b64a-8d0d-45f5-8730-0c4d3be24437",
   "metadata": {},
   "outputs": [
    {
     "name": "stdout",
     "output_type": "stream",
     "text": [
      "Insufficient balance in the account\n"
     ]
    }
   ],
   "source": [
    "class InsufficientBalanceError(Exception):\n",
    "    def __init__(self, message=\"Insufficient balance in the account\"):\n",
    "        self.message = message\n",
    "        super().__init__(self.message)\n",
    "\n",
    "class BankAccount:\n",
    "    def __init__(self, balance):\n",
    "        self.balance = balance\n",
    "\n",
    "    def withdraw(self, amount):\n",
    "        if amount <= 0:\n",
    "            raise ValueError(\"Invalid withdrawal amount, must be greater than zero\")\n",
    "        if amount > self.balance:\n",
    "            raise InsufficientBalanceError()\n",
    "        self.balance -= amount\n",
    "        return self.balance\n",
    "\n",
    "# Example usage:\n",
    "try:\n",
    "    account_balance = 1000\n",
    "    account = BankAccount(account_balance)\n",
    "    withdrawal_amount = 1500\n",
    "    remaining_balance = account.withdraw(withdrawal_amount)\n",
    "    print(\"Withdrawal successful. Remaining balance:\", remaining_balance)\n",
    "except InsufficientBalanceError as e:\n",
    "    print(e)\n",
    "except ValueError as e:\n",
    "    print(e)\n"
   ]
  },
  {
   "cell_type": "code",
   "execution_count": null,
   "id": "06db3e3d-49f0-4833-8eae-79a380d3ffb9",
   "metadata": {},
   "outputs": [],
   "source": [
    "Q6. Create a custom exception class. Use this class to handle an exception."
   ]
  },
  {
   "cell_type": "markdown",
   "id": "4ae7c016-c32e-4fbc-a885-517e54644736",
   "metadata": {},
   "source": [
    "ans:- Let's create a custom exception class called InvalidInputError and use it to handle an exception when a user enters an invalid input in a simple program that divides two numbers"
   ]
  },
  {
   "cell_type": "code",
   "execution_count": 8,
   "id": "4256d14b-e13b-45ca-819c-f1429a0f2c7e",
   "metadata": {},
   "outputs": [
    {
     "name": "stdin",
     "output_type": "stream",
     "text": [
      "Enter the first number:  10\n",
      "Enter the second number:  3\n"
     ]
    },
    {
     "name": "stdout",
     "output_type": "stream",
     "text": [
      "Result: 3.3333333333333335\n"
     ]
    }
   ],
   "source": [
    "class InvalidInputError(Exception):\n",
    "    def __init__(self, message=\"Invalid input. Please enter valid numbers.\"):\n",
    "        self.message = message\n",
    "        super().__init__(self.message)\n",
    "\n",
    "def divide_numbers(a, b):\n",
    "    if b == 0:\n",
    "        raise InvalidInputError(\"Cannot divide by zero.\")\n",
    "    return a / b\n",
    "\n",
    "# Example usage:\n",
    "try:\n",
    "    num1 = float(input(\"Enter the first number: \"))\n",
    "    num2 = float(input(\"Enter the second number: \"))\n",
    "    result = divide_numbers(num1, num2)\n",
    "    print(\"Result:\", result)\n",
    "except ValueError:\n",
    "    print(\"Invalid input. Please enter valid numbers.\")\n",
    "except InvalidInputError as e:\n",
    "    print(e)\n",
    "\n",
    "    "
   ]
  },
  {
   "cell_type": "markdown",
   "id": "35257d0c-8850-48a7-b9a2-ba6cdba78a3e",
   "metadata": {},
   "source": [
    "Q4. Explain with an exmple:\n",
    "    Try and else\n",
    "    Finally\n",
    "    Raise"
   ]
  },
  {
   "cell_type": "markdown",
   "id": "bb56d754-fedf-4bbf-957b-a1e677fed934",
   "metadata": {},
   "source": [
    "ans- In programming, the \"try\" and \"else\" blocks are used in exception handling to handle potential errors or exceptions that may occur during the execution of code. The \"try\" block contains the code that may raise an exception, while the \"else\" block is executed if no exception occurs within the \"try\" block.\n",
    "\n",
    "Here's an example in Python:"
   ]
  },
  {
   "cell_type": "code",
   "execution_count": 9,
   "id": "83f74ba4-ab4d-4805-8f7b-c3efa662fc3f",
   "metadata": {},
   "outputs": [
    {
     "name": "stdout",
     "output_type": "stream",
     "text": [
      "Division result: 5.0\n",
      "Error: Cannot divide by zero!\n"
     ]
    }
   ],
   "source": [
    "def divide_numbers(a, b):\n",
    "    try:\n",
    "        result = a / b\n",
    "    except ZeroDivisionError:\n",
    "        print(\"Error: Cannot divide by zero!\")\n",
    "    else:\n",
    "        print(\"Division result:\", result)\n",
    "\n",
    "# Test cases\n",
    "divide_numbers(10, 2)  # No exception, the \"else\" block will be executed\n",
    "divide_numbers(10, 0)  # Exception (division by zero), the \"except\" block will be executed\n"
   ]
  },
  {
   "cell_type": "markdown",
   "id": "fac99341-da8d-4599-a7d4-afd5ae470ed9",
   "metadata": {},
   "source": [
    "In programming, the \"finally\" block is used in conjunction with the \"try\" and \"except\" blocks to ensure that certain code is always executed, regardless of whether an exception occurred or not. The \"finally\" block is executed after the \"try\" block and any associated \"except\" blocks, no matter if an exception was raised or not."
   ]
  },
  {
   "cell_type": "code",
   "execution_count": 10,
   "id": "fbb0d136-45e4-426a-8ce2-05924ccd15d2",
   "metadata": {},
   "outputs": [
    {
     "name": "stdout",
     "output_type": "stream",
     "text": [
      "Division result: 5.0\n",
      "This will always be executed, regardless of exceptions.\n",
      "Error: Cannot divide by zero!\n",
      "This will always be executed, regardless of exceptions.\n"
     ]
    }
   ],
   "source": [
    "def divide_numbers(a, b):\n",
    "    try:\n",
    "        result = a / b\n",
    "    except ZeroDivisionError:\n",
    "        print(\"Error: Cannot divide by zero!\")\n",
    "    else:\n",
    "        print(\"Division result:\", result)\n",
    "    finally:\n",
    "        print(\"This will always be executed, regardless of exceptions.\")\n",
    "\n",
    "# Test cases\n",
    "divide_numbers(10, 2)  # No exception, the \"else\" block will be executed, and then the \"finally\" block.\n",
    "divide_numbers(10, 0)  # Exception (division by zero), the \"except\" block will be executed, and then the \"finally\" block.\n"
   ]
  },
  {
   "cell_type": "markdown",
   "id": "e4fe8c40-fcc7-440a-8aa0-a7e96b68a0dd",
   "metadata": {},
   "source": [
    "In programming, the \"raise\" keyword is used to explicitly raise an exception during the execution of code. It allows you to create and signal specific errors or exceptional conditions when certain situations occur in your program. You can use the \"raise\" statement to raise built-in exceptions or custom exceptions that you define."
   ]
  },
  {
   "cell_type": "code",
   "execution_count": 11,
   "id": "5e8977b0-8d74-40d7-bef8-2570a6c7bd2f",
   "metadata": {},
   "outputs": [
    {
     "name": "stdout",
     "output_type": "stream",
     "text": [
      "Error: Cannot divide by zero!\n"
     ]
    }
   ],
   "source": [
    "# Custom Exception\n",
    "class MyCustomError(Exception):\n",
    "    def __init__(self, message):\n",
    "        super().__init__(message)\n",
    "\n",
    "def divide_numbers(a, b):\n",
    "    if b == 0:\n",
    "        raise MyCustomError(\"Error: Cannot divide by zero!\")\n",
    "    else:\n",
    "        result = a / b\n",
    "        return result\n",
    "\n",
    "# Test cases\n",
    "try:\n",
    "    result = divide_numbers(10, 0)\n",
    "except MyCustomError as e:\n",
    "    print(e)\n",
    "else:\n",
    "    print(\"Division result:\", result)\n"
   ]
  },
  {
   "cell_type": "code",
   "execution_count": null,
   "id": "ce60faa3-a380-4146-827f-255517147032",
   "metadata": {},
   "outputs": [],
   "source": []
  }
 ],
 "metadata": {
  "kernelspec": {
   "display_name": "Python 3 (ipykernel)",
   "language": "python",
   "name": "python3"
  },
  "language_info": {
   "codemirror_mode": {
    "name": "ipython",
    "version": 3
   },
   "file_extension": ".py",
   "mimetype": "text/x-python",
   "name": "python",
   "nbconvert_exporter": "python",
   "pygments_lexer": "ipython3",
   "version": "3.10.8"
  }
 },
 "nbformat": 4,
 "nbformat_minor": 5
}
