{
 "cells": [
  {
   "cell_type": "code",
   "execution_count": 1,
   "id": "4b8b8b04-1159-4f2b-86d8-278b145462db",
   "metadata": {},
   "outputs": [],
   "source": [
    "a = 1"
   ]
  },
  {
   "cell_type": "code",
   "execution_count": 2,
   "id": "79f6c0cc-e3fb-4e0a-b244-7a076e1d48a7",
   "metadata": {},
   "outputs": [
    {
     "name": "stdout",
     "output_type": "stream",
     "text": [
      "<class 'int'>\n"
     ]
    }
   ],
   "source": [
    "print(type(a))"
   ]
  },
  {
   "cell_type": "code",
   "execution_count": 3,
   "id": "f9bebeb5-725f-4a50-9292-22c47f27951d",
   "metadata": {},
   "outputs": [
    {
     "name": "stdout",
     "output_type": "stream",
     "text": [
      "<class 'str'>\n"
     ]
    }
   ],
   "source": [
    "print(type(\"shalini\"))"
   ]
  },
  {
   "cell_type": "code",
   "execution_count": 5,
   "id": "9c800829-8bb8-477e-be61-1492bdad8b57",
   "metadata": {},
   "outputs": [],
   "source": [
    "class test:\n",
    "     pass"
   ]
  },
  {
   "cell_type": "code",
   "execution_count": 12,
   "id": "875b1ea4-3862-4ce3-a034-6226b2098bb8",
   "metadata": {},
   "outputs": [],
   "source": [
    "a = test()"
   ]
  },
  {
   "cell_type": "code",
   "execution_count": 13,
   "id": "bb568a86-d06e-4db1-abb4-31ee486001d7",
   "metadata": {},
   "outputs": [
    {
     "data": {
      "text/plain": [
       "__main__.test"
      ]
     },
     "execution_count": 13,
     "metadata": {},
     "output_type": "execute_result"
    }
   ],
   "source": [
    "type(a)"
   ]
  },
  {
   "cell_type": "code",
   "execution_count": 14,
   "id": "2c2c90ed-d176-4414-8fa3-61c409d7c22f",
   "metadata": {},
   "outputs": [
    {
     "name": "stdout",
     "output_type": "stream",
     "text": [
      "<class '__main__.test'>\n"
     ]
    }
   ],
   "source": [
    "print(type(a))"
   ]
  },
  {
   "cell_type": "code",
   "execution_count": 19,
   "id": "ff24305b-7bfa-48a3-b634-0315f9e3bfc5",
   "metadata": {},
   "outputs": [],
   "source": [
    "class pwskills:\n",
    "    \n",
    "    def welcome_msg(self):\n",
    "        print(\"welcome to pwskills\")"
   ]
  },
  {
   "cell_type": "code",
   "execution_count": 20,
   "id": "a9e5dbc5-2856-417d-aec3-16aba58a8162",
   "metadata": {},
   "outputs": [],
   "source": [
    "rohan = pwskills()"
   ]
  },
  {
   "cell_type": "code",
   "execution_count": 21,
   "id": "d6520508-2400-4241-b655-db29a4cf9479",
   "metadata": {},
   "outputs": [
    {
     "name": "stdout",
     "output_type": "stream",
     "text": [
      "welcome to pwskills\n"
     ]
    }
   ],
   "source": [
    "rohan.welcome_msg()"
   ]
  },
  {
   "cell_type": "markdown",
   "id": "b2167b7a-8016-44df-9960-8fd61261f18d",
   "metadata": {},
   "source": [
    "constructor"
   ]
  },
  {
   "cell_type": "code",
   "execution_count": 43,
   "id": "e5496a84-4e13-48f7-a75e-19c25ba6d1f5",
   "metadata": {},
   "outputs": [],
   "source": [
    "class pwskills1:\n",
    "     def __init__(self,phone_number,email_id,student_id):\n",
    "        \n",
    "        self.phone_number = phone_number\n",
    "        self.email_id = email_id\n",
    "        self.student_id = student_id\n",
    "    \n",
    "        \n",
    "        def return_student_details(self):\n",
    "            return self.phone_number, self.email_id, self.student_id\n",
    "        "
   ]
  },
  {
   "cell_type": "code",
   "execution_count": 37,
   "id": "2d0c9e8c-4023-47e2-8a04-d3c7509997c1",
   "metadata": {},
   "outputs": [],
   "source": [
    "rohan = pwskills1(1234567890, \"rohan@gmail.com\", 212,)"
   ]
  },
  {
   "cell_type": "code",
   "execution_count": 32,
   "id": "d2d3af81-776d-45cc-af91-b863d1ba41a7",
   "metadata": {},
   "outputs": [
    {
     "data": {
      "text/plain": [
       "1234567890"
      ]
     },
     "execution_count": 32,
     "metadata": {},
     "output_type": "execute_result"
    }
   ],
   "source": [
    "rohan.phone_number"
   ]
  },
  {
   "cell_type": "code",
   "execution_count": 45,
   "id": "95b9b7c1-41b1-47b2-960d-febcda6b1bcc",
   "metadata": {},
   "outputs": [
    {
     "data": {
      "text/plain": [
       "'rohan@gmail.com'"
      ]
     },
     "execution_count": 45,
     "metadata": {},
     "output_type": "execute_result"
    }
   ],
   "source": [
    "rohan.email_id"
   ]
  },
  {
   "cell_type": "code",
   "execution_count": 46,
   "id": "582ad065-1398-474b-b0b2-239605471a74",
   "metadata": {},
   "outputs": [
    {
     "data": {
      "text/plain": [
       "212"
      ]
     },
     "execution_count": 46,
     "metadata": {},
     "output_type": "execute_result"
    }
   ],
   "source": [
    "rohan.student_id"
   ]
  },
  {
   "cell_type": "code",
   "execution_count": 47,
   "id": "48f9b043-de6d-4c9f-8bc1-2bf6e11a727a",
   "metadata": {},
   "outputs": [
    {
     "ename": "AttributeError",
     "evalue": "'pwskills' object has no attribute 'return_student_details'",
     "output_type": "error",
     "traceback": [
      "\u001b[0;31m---------------------------------------------------------------------------\u001b[0m",
      "\u001b[0;31mAttributeError\u001b[0m                            Traceback (most recent call last)",
      "Cell \u001b[0;32mIn[47], line 1\u001b[0m\n\u001b[0;32m----> 1\u001b[0m \u001b[43mrohan\u001b[49m\u001b[38;5;241;43m.\u001b[39;49m\u001b[43mreturn_student_details\u001b[49m()\n",
      "\u001b[0;31mAttributeError\u001b[0m: 'pwskills' object has no attribute 'return_student_details'"
     ]
    }
   ],
   "source": [
    "rohan.return_student_details()"
   ]
  },
  {
   "cell_type": "code",
   "execution_count": 68,
   "id": "5abdf18c-72ee-4f2e-91e7-e68123fc60ef",
   "metadata": {},
   "outputs": [],
   "source": [
    "class pwskills2:\n",
    "     def __init__(shelly,phone_number,email_id,student_id):\n",
    "        \n",
    "        shelly.phone_number = phone_number\n",
    "        shelly.email_id = email_id\n",
    "        shelly.student_id = student_id\n",
    "    \n",
    "        \n",
    "        def return_student_details(shelly):\n",
    "            return shelly.phone_number, shelly.email_id, shelly.student_id\n",
    "        "
   ]
  },
  {
   "cell_type": "code",
   "execution_count": 75,
   "id": "7078421d-fb37-479f-9665-8e8052fb36f2",
   "metadata": {},
   "outputs": [],
   "source": [
    "mohan = pwskills2(1234567890, \"mohan@gmail.com\", 101)"
   ]
  },
  {
   "cell_type": "code",
   "execution_count": 70,
   "id": "2ee4d66e-e5e2-4ec8-a422-f0946adfe114",
   "metadata": {},
   "outputs": [
    {
     "data": {
      "text/plain": [
       "101"
      ]
     },
     "execution_count": 70,
     "metadata": {},
     "output_type": "execute_result"
    }
   ],
   "source": [
    "mohan.student_id"
   ]
  },
  {
   "cell_type": "code",
   "execution_count": 71,
   "id": "ef8e8e7a-e4fa-43fd-b276-80acaaf8da36",
   "metadata": {},
   "outputs": [
    {
     "ename": "AttributeError",
     "evalue": "'pwskills2' object has no attribute 'return_student_details'",
     "output_type": "error",
     "traceback": [
      "\u001b[0;31m---------------------------------------------------------------------------\u001b[0m",
      "\u001b[0;31mAttributeError\u001b[0m                            Traceback (most recent call last)",
      "Cell \u001b[0;32mIn[71], line 1\u001b[0m\n\u001b[0;32m----> 1\u001b[0m \u001b[43mmohan\u001b[49m\u001b[38;5;241;43m.\u001b[39;49m\u001b[43mreturn_student_details\u001b[49m()\n",
      "\u001b[0;31mAttributeError\u001b[0m: 'pwskills2' object has no attribute 'return_student_details'"
     ]
    }
   ],
   "source": [
    "mohan.return_student_details()"
   ]
  },
  {
   "cell_type": "code",
   "execution_count": 60,
   "id": "a1ba8bbe-cbe5-4545-8e3e-a371edbaf8b6",
   "metadata": {},
   "outputs": [],
   "source": [
    "class pwskills3:\n",
    "     def __init__(shelly,phone_number,email_id,student_id):\n",
    "        \n",
    "        shelly.phone_number1 = phone_number\n",
    "        shelly.email_id = email_id\n",
    "        shelly.student_id = student_id\n",
    "    \n",
    "        \n",
    "        def return_student_details(shelly):\n",
    "            return shelly.phone_number1, shelly.email_id, shelly.student_id"
   ]
  },
  {
   "cell_type": "code",
   "execution_count": 72,
   "id": "05a19775-50a3-4395-aecf-31bf3a786418",
   "metadata": {},
   "outputs": [],
   "source": [
    "mohan = pwskills3(1234567890, \"mohan@gmail.com\", 101)"
   ]
  },
  {
   "cell_type": "code",
   "execution_count": 73,
   "id": "7df3da32-8e98-4217-9439-26bedbe0beec",
   "metadata": {},
   "outputs": [
    {
     "data": {
      "text/plain": [
       "1234567890"
      ]
     },
     "execution_count": 73,
     "metadata": {},
     "output_type": "execute_result"
    }
   ],
   "source": [
    "mohan.phone_number1"
   ]
  },
  {
   "cell_type": "code",
   "execution_count": 74,
   "id": "7d7da732-000b-4ec9-b8e9-d2f3081e34d9",
   "metadata": {},
   "outputs": [
    {
     "ename": "AttributeError",
     "evalue": "'pwskills3' object has no attribute 'return_student_details'",
     "output_type": "error",
     "traceback": [
      "\u001b[0;31m---------------------------------------------------------------------------\u001b[0m",
      "\u001b[0;31mAttributeError\u001b[0m                            Traceback (most recent call last)",
      "Cell \u001b[0;32mIn[74], line 1\u001b[0m\n\u001b[0;32m----> 1\u001b[0m \u001b[43mmohan\u001b[49m\u001b[38;5;241;43m.\u001b[39;49m\u001b[43mreturn_student_details\u001b[49m()\n",
      "\u001b[0;31mAttributeError\u001b[0m: 'pwskills3' object has no attribute 'return_student_details'"
     ]
    }
   ],
   "source": [
    "mohan.return_student_details()"
   ]
  },
  {
   "cell_type": "markdown",
   "id": "92dcad10-1651-4af4-b1f7-3121c8d14215",
   "metadata": {},
   "source": [
    "polymorphism"
   ]
  },
  {
   "cell_type": "code",
   "execution_count": 1,
   "id": "242b68d2-2020-44aa-9b3f-f9a9afe88d6d",
   "metadata": {},
   "outputs": [],
   "source": [
    "def test(a,b):\n",
    "    return a+b"
   ]
  },
  {
   "cell_type": "code",
   "execution_count": 2,
   "id": "1550a217-d44c-4f40-9f55-ac984cbdf2eb",
   "metadata": {},
   "outputs": [
    {
     "data": {
      "text/plain": [
       "9"
      ]
     },
     "execution_count": 2,
     "metadata": {},
     "output_type": "execute_result"
    }
   ],
   "source": [
    "test(4, 5)"
   ]
  },
  {
   "cell_type": "code",
   "execution_count": 6,
   "id": "f9721d6f-8bd8-4f32-b507-0673655add1d",
   "metadata": {},
   "outputs": [
    {
     "data": {
      "text/plain": [
       "'shalini deka'"
      ]
     },
     "execution_count": 6,
     "metadata": {},
     "output_type": "execute_result"
    }
   ],
   "source": [
    "test('shalini ' , 'deka')"
   ]
  },
  {
   "cell_type": "code",
   "execution_count": 7,
   "id": "4075095a-93cf-4c18-bacb-58e318648c50",
   "metadata": {},
   "outputs": [
    {
     "data": {
      "text/plain": [
       "[2, 3, 45, 6, 12, 2, 3, 4]"
      ]
     },
     "execution_count": 7,
     "metadata": {},
     "output_type": "execute_result"
    }
   ],
   "source": [
    "test([2,3,45,6] , [12,2,3,4])"
   ]
  },
  {
   "cell_type": "code",
   "execution_count": 9,
   "id": "bedb04af-a6e2-4fd6-9b21-05543edeed32",
   "metadata": {},
   "outputs": [],
   "source": [
    "class data_science:\n",
    "    def syllabus(self):\n",
    "        print(\"this is my method for data science syllabus\")"
   ]
  },
  {
   "cell_type": "code",
   "execution_count": 10,
   "id": "00a69842-faaf-4b71-a861-97cda5e5fbce",
   "metadata": {},
   "outputs": [],
   "source": [
    "class web_dev:\n",
    "    def syllabus(self):\n",
    "        print(\"this is my method for web dev syllabus\")"
   ]
  },
  {
   "cell_type": "code",
   "execution_count": 11,
   "id": "cf7beadd-c355-4864-98b2-ee4b3eaa1668",
   "metadata": {},
   "outputs": [],
   "source": [
    "def class_parcer(class_obj):\n",
    "    for i in class_obj :\n",
    "        i.syllabus()\n",
    "    "
   ]
  },
  {
   "cell_type": "code",
   "execution_count": 12,
   "id": "c5c31f25-f13a-45ca-8c01-16658a3300eb",
   "metadata": {},
   "outputs": [],
   "source": [
    "obj_data_science = data_science()"
   ]
  },
  {
   "cell_type": "code",
   "execution_count": 13,
   "id": "0fcbbf0a-1c72-45f4-b763-433013792af4",
   "metadata": {},
   "outputs": [],
   "source": [
    "obj_web_dev = web_dev()"
   ]
  },
  {
   "cell_type": "code",
   "execution_count": 14,
   "id": "3d473abc-b61d-4141-a959-dc264e66ab6d",
   "metadata": {},
   "outputs": [],
   "source": [
    "class_obj = [obj_data_science , obj_web_dev]"
   ]
  },
  {
   "cell_type": "code",
   "execution_count": 15,
   "id": "a8b3c5af-8d16-418e-a6d6-dcbb2e9795f0",
   "metadata": {},
   "outputs": [
    {
     "name": "stdout",
     "output_type": "stream",
     "text": [
      "this is my method for data science syllabus\n",
      "this is my method for web dev syllabus\n"
     ]
    }
   ],
   "source": [
    "class_parcer(class_obj)"
   ]
  },
  {
   "cell_type": "markdown",
   "id": "ebbb1c70-1b01-4527-a2fb-8bf7a7eab2b9",
   "metadata": {},
   "source": [
    "Encapsulations"
   ]
  },
  {
   "cell_type": "code",
   "execution_count": 7,
   "id": "746e2465-94e3-4584-ba17-7559358b9d49",
   "metadata": {},
   "outputs": [],
   "source": [
    "class test :\n",
    "    def __init__(self, a,b):\n",
    "        self.a = a\n",
    "        self.b = b"
   ]
  },
  {
   "cell_type": "code",
   "execution_count": 8,
   "id": "1799e501-6ecd-40b8-962b-776b98d5f3bd",
   "metadata": {},
   "outputs": [],
   "source": [
    "t=  test(4,5)"
   ]
  },
  {
   "cell_type": "code",
   "execution_count": 9,
   "id": "7fa0f4bc-dd18-4ec4-bb08-e9df786faecd",
   "metadata": {},
   "outputs": [
    {
     "data": {
      "text/plain": [
       "4"
      ]
     },
     "execution_count": 9,
     "metadata": {},
     "output_type": "execute_result"
    }
   ],
   "source": [
    "t.a"
   ]
  },
  {
   "cell_type": "code",
   "execution_count": 10,
   "id": "7eae0636-542e-4e5e-a41f-7ff47471e646",
   "metadata": {},
   "outputs": [
    {
     "data": {
      "text/plain": [
       "5"
      ]
     },
     "execution_count": 10,
     "metadata": {},
     "output_type": "execute_result"
    }
   ],
   "source": [
    "t.b"
   ]
  },
  {
   "cell_type": "code",
   "execution_count": 11,
   "id": "7d3331e4-a175-4a8e-b76d-74df0ce8a8f7",
   "metadata": {},
   "outputs": [],
   "source": [
    "t.a = 3244"
   ]
  },
  {
   "cell_type": "code",
   "execution_count": 12,
   "id": "1b15d325-7ff1-4635-87de-87c5e5513545",
   "metadata": {},
   "outputs": [
    {
     "data": {
      "text/plain": [
       "3244"
      ]
     },
     "execution_count": 12,
     "metadata": {},
     "output_type": "execute_result"
    }
   ],
   "source": [
    "t.a"
   ]
  },
  {
   "cell_type": "code",
   "execution_count": 19,
   "id": "5d8aef3e-758c-436a-a2bc-03fbbdbfe249",
   "metadata": {},
   "outputs": [],
   "source": [
    "class car :\n",
    "    \n",
    "    def __init__(self, year, make, model, speed):\n",
    "        self.__year = year\n",
    "        self.__make = make\n",
    "        self.__model = model\n",
    "        self.__speed = 0\n",
    "        \n",
    "    def set_speed(self, speed):\n",
    "            self.__speed = 0 if speed < 0 else speed\n",
    "    \n",
    "    def get_speed(self):\n",
    "        return self.__speed\n",
    "    "
   ]
  },
  {
   "cell_type": "code",
   "execution_count": 5,
   "id": "e0122229-3944-4971-b899-04bafab388f5",
   "metadata": {},
   "outputs": [],
   "source": [
    "obj_car = car(2021,\"hyundai\", \"nexa\", 13)"
   ]
  },
  {
   "cell_type": "code",
   "execution_count": 6,
   "id": "d466cdcc-a8c0-4553-bf3d-a96e2a3e309e",
   "metadata": {},
   "outputs": [
    {
     "data": {
      "text/plain": [
       "2021"
      ]
     },
     "execution_count": 6,
     "metadata": {},
     "output_type": "execute_result"
    }
   ],
   "source": [
    "obj_car._car__year"
   ]
  },
  {
   "cell_type": "code",
   "execution_count": 7,
   "id": "8a4e800c-1772-412a-b0d7-f529d1a80689",
   "metadata": {},
   "outputs": [],
   "source": [
    "obj_car._car__year = 2023"
   ]
  },
  {
   "cell_type": "code",
   "execution_count": 9,
   "id": "ac06679b-71bf-40b2-a3ed-b3cfb89d3d2c",
   "metadata": {},
   "outputs": [
    {
     "data": {
      "text/plain": [
       "2023"
      ]
     },
     "execution_count": 9,
     "metadata": {},
     "output_type": "execute_result"
    }
   ],
   "source": [
    "obj_car._car__year"
   ]
  },
  {
   "cell_type": "code",
   "execution_count": 11,
   "id": "9aa2e275-6226-4fbc-910d-3c6eb62083c7",
   "metadata": {},
   "outputs": [],
   "source": [
    "obj_car._car__year = 2025"
   ]
  },
  {
   "cell_type": "code",
   "execution_count": 12,
   "id": "5404d5ee-eaee-447d-8e6b-b6c1abf476a2",
   "metadata": {},
   "outputs": [
    {
     "data": {
      "text/plain": [
       "2025"
      ]
     },
     "execution_count": 12,
     "metadata": {},
     "output_type": "execute_result"
    }
   ],
   "source": [
    "obj_car._car__year"
   ]
  },
  {
   "cell_type": "code",
   "execution_count": 9,
   "id": "4e94fea1-6bc4-437a-b48d-121218a2fc58",
   "metadata": {},
   "outputs": [
    {
     "ename": "NameError",
     "evalue": "name 'obj_car' is not defined",
     "output_type": "error",
     "traceback": [
      "\u001b[0;31m---------------------------------------------------------------------------\u001b[0m",
      "\u001b[0;31mNameError\u001b[0m                                 Traceback (most recent call last)",
      "Cell \u001b[0;32mIn[9], line 1\u001b[0m\n\u001b[0;32m----> 1\u001b[0m \u001b[43mobj_car\u001b[49m\u001b[38;5;241m.\u001b[39mset_speed(\u001b[38;5;241m1234\u001b[39m)\n",
      "\u001b[0;31mNameError\u001b[0m: name 'obj_car' is not defined"
     ]
    }
   ],
   "source": [
    "obj_car.set_speed(1234)"
   ]
  },
  {
   "cell_type": "code",
   "execution_count": 20,
   "id": "d2fcae60-9c03-455f-a338-257a455a8a8f",
   "metadata": {},
   "outputs": [
    {
     "ename": "AttributeError",
     "evalue": "'car' object has no attribute 'get_speed'",
     "output_type": "error",
     "traceback": [
      "\u001b[0;31m---------------------------------------------------------------------------\u001b[0m",
      "\u001b[0;31mAttributeError\u001b[0m                            Traceback (most recent call last)",
      "Cell \u001b[0;32mIn[20], line 1\u001b[0m\n\u001b[0;32m----> 1\u001b[0m \u001b[43mobj_car\u001b[49m\u001b[38;5;241;43m.\u001b[39;49m\u001b[43mget_speed\u001b[49m()\n",
      "\u001b[0;31mAttributeError\u001b[0m: 'car' object has no attribute 'get_speed'"
     ]
    }
   ],
   "source": [
    "obj_car.get_speed()"
   ]
  },
  {
   "cell_type": "code",
   "execution_count": 9,
   "id": "2fa9f8fa-5743-4409-9033-0a9d06eb4c98",
   "metadata": {},
   "outputs": [],
   "source": [
    "class bank_account:\n",
    "    \n",
    "    def __init__(self, balance):\n",
    "        self.__balance = balance\n",
    "        \n",
    "        \n",
    "    def deposit(self, amount):\n",
    "        self.__balance = self.__balance + amount\n",
    "        \n",
    "    def withdraw(self, amount):\n",
    "        if self.__balance >= amount:\n",
    "            self.__balance = self.__balance - amount\n",
    "            \n",
    "            return True\n",
    "        else :\n",
    "            return False\n",
    "    def get_balance(self):\n",
    "        return self.__balance"
   ]
  },
  {
   "cell_type": "code",
   "execution_count": 10,
   "id": "ad4388cf-db37-4e6e-a335-bf25a5dde6c4",
   "metadata": {},
   "outputs": [],
   "source": [
    "obj_bank_account = bank_account(1000)"
   ]
  },
  {
   "cell_type": "code",
   "execution_count": 11,
   "id": "ca41272b-3974-48e6-8585-b16d71bf2b56",
   "metadata": {},
   "outputs": [
    {
     "data": {
      "text/plain": [
       "1000"
      ]
     },
     "execution_count": 11,
     "metadata": {},
     "output_type": "execute_result"
    }
   ],
   "source": [
    "obj_bank_account.get_balance()"
   ]
  },
  {
   "cell_type": "code",
   "execution_count": 12,
   "id": "d6ef15a8-d65b-44c8-9e51-c266e71d4a71",
   "metadata": {},
   "outputs": [],
   "source": [
    "obj_bank_account.deposit(6000)"
   ]
  },
  {
   "cell_type": "code",
   "execution_count": 13,
   "id": "7ac5e105-6e10-4da9-8fd2-1b5c71cc37c7",
   "metadata": {},
   "outputs": [
    {
     "data": {
      "text/plain": [
       "7000"
      ]
     },
     "execution_count": 13,
     "metadata": {},
     "output_type": "execute_result"
    }
   ],
   "source": [
    "obj_bank_account.get_balance()"
   ]
  },
  {
   "cell_type": "code",
   "execution_count": 14,
   "id": "e5e93794-d7ef-4c84-b73b-34d97f6f58e5",
   "metadata": {},
   "outputs": [
    {
     "data": {
      "text/plain": [
       "False"
      ]
     },
     "execution_count": 14,
     "metadata": {},
     "output_type": "execute_result"
    }
   ],
   "source": [
    "obj_bank_account.withdraw(10000)"
   ]
  },
  {
   "cell_type": "code",
   "execution_count": 15,
   "id": "52c61ca0-9355-41af-b9c9-eccea986737c",
   "metadata": {},
   "outputs": [
    {
     "data": {
      "text/plain": [
       "True"
      ]
     },
     "execution_count": 15,
     "metadata": {},
     "output_type": "execute_result"
    }
   ],
   "source": [
    "obj_bank_account.withdraw(2000)"
   ]
  },
  {
   "cell_type": "code",
   "execution_count": 17,
   "id": "e8ba4f9d-b031-43c8-85cf-94858dab327d",
   "metadata": {},
   "outputs": [
    {
     "data": {
      "text/plain": [
       "5000"
      ]
     },
     "execution_count": 17,
     "metadata": {},
     "output_type": "execute_result"
    }
   ],
   "source": [
    "obj_bank_account.get_balance()"
   ]
  },
  {
   "cell_type": "markdown",
   "id": "c3fe26c8-c387-4780-adb8-d982b4c8cbb2",
   "metadata": {},
   "source": [
    "Inheritance"
   ]
  },
  {
   "cell_type": "code",
   "execution_count": 18,
   "id": "ad72c21d-188a-4425-8a9f-90741592d7ee",
   "metadata": {},
   "outputs": [],
   "source": [
    "class parent:\n",
    "    def test_parent(self):\n",
    "        print(\"this is my parent class\")"
   ]
  },
  {
   "cell_type": "code",
   "execution_count": 19,
   "id": "eac8165b-7446-4683-83bd-e7260cd79074",
   "metadata": {},
   "outputs": [],
   "source": [
    "class child(parent):\n",
    "    pass"
   ]
  },
  {
   "cell_type": "code",
   "execution_count": 20,
   "id": "01dfd62d-3e08-4a18-9a63-b7968c554ac1",
   "metadata": {},
   "outputs": [],
   "source": [
    "child_obj = child()"
   ]
  },
  {
   "cell_type": "code",
   "execution_count": 21,
   "id": "ee3b5d98-b20a-4c2d-accb-d1ecdf16ccd8",
   "metadata": {},
   "outputs": [
    {
     "name": "stdout",
     "output_type": "stream",
     "text": [
      "this is my parent class\n"
     ]
    }
   ],
   "source": [
    "child_obj.test_parent()"
   ]
  },
  {
   "cell_type": "code",
   "execution_count": 27,
   "id": "69c37038-6b08-4e8b-b599-b0a863f7fcca",
   "metadata": {},
   "outputs": [],
   "source": [
    "class class1 :\n",
    "    def test_class1(self):\n",
    "        print(\"this is my class1\" )"
   ]
  },
  {
   "cell_type": "code",
   "execution_count": 28,
   "id": "34eb5873-3de7-4d53-9422-33ac46cdf4cb",
   "metadata": {},
   "outputs": [],
   "source": [
    "class class2:\n",
    "    def test_class2(self):\n",
    "        print(\"this is my class2\")"
   ]
  },
  {
   "cell_type": "code",
   "execution_count": 29,
   "id": "cd693235-3351-4445-aec5-daa205f892e1",
   "metadata": {},
   "outputs": [],
   "source": [
    "class class3:\n",
    "    def test_class3(self):\n",
    "        print(\"this is my class3\")"
   ]
  },
  {
   "cell_type": "code",
   "execution_count": 34,
   "id": "6e73a711-05d3-4f00-a06f-f573f1351a38",
   "metadata": {},
   "outputs": [],
   "source": [
    "obj_class3 = class3()"
   ]
  },
  {
   "cell_type": "code",
   "execution_count": 7,
   "id": "eda5f3ad-8800-4464-bd16-50690ccb1b6f",
   "metadata": {},
   "outputs": [
    {
     "name": "stdout",
     "output_type": "stream",
     "text": [
      "this is my class 1\n"
     ]
    }
   ],
   "source": [
    "obj_class3.test_class1()"
   ]
  },
  {
   "cell_type": "markdown",
   "id": "91bdc6a7-86a7-42a2-940c-a24f6bb64b99",
   "metadata": {},
   "source": [
    "Multiple Inheritance"
   ]
  },
  {
   "cell_type": "code",
   "execution_count": 1,
   "id": "60213511-48ba-489f-8405-a106ff2cb9fd",
   "metadata": {},
   "outputs": [],
   "source": [
    "class class1 :\n",
    "    def test_class1(self):\n",
    "        print(\"this is my class 1\" )"
   ]
  },
  {
   "cell_type": "code",
   "execution_count": 2,
   "id": "3185b944-561a-4868-ab5e-b8db7a42bd43",
   "metadata": {},
   "outputs": [],
   "source": [
    "class class2:\n",
    "    def test_class2(self):\n",
    "        print(\"this is my class 2\")"
   ]
  },
  {
   "cell_type": "code",
   "execution_count": 3,
   "id": "29a09ac3-ad75-4115-b5d4-9767d88b64af",
   "metadata": {},
   "outputs": [],
   "source": [
    "class class3:\n",
    "    def test_class3(self):\n",
    "        print(\"this is my class 3\")"
   ]
  },
  {
   "cell_type": "code",
   "execution_count": 4,
   "id": "f51aeb0d-49a0-4470-94c4-b74151c9b81e",
   "metadata": {},
   "outputs": [],
   "source": [
    "class class3(class1, class2):\n",
    "    pass"
   ]
  },
  {
   "cell_type": "code",
   "execution_count": 5,
   "id": "c1d75e83-da8f-4999-8281-97c7c36cf69c",
   "metadata": {},
   "outputs": [],
   "source": [
    "obj_class3 = class3()"
   ]
  },
  {
   "cell_type": "code",
   "execution_count": 6,
   "id": "e67d5a09-41a7-4f52-ba95-14cac7245d5b",
   "metadata": {},
   "outputs": [
    {
     "name": "stdout",
     "output_type": "stream",
     "text": [
      "this is my class 1\n"
     ]
    }
   ],
   "source": [
    "obj_class3.test_class1()"
   ]
  },
  {
   "cell_type": "code",
   "execution_count": 8,
   "id": "d569b435-cc03-48cf-a62b-645f4c798ce7",
   "metadata": {},
   "outputs": [
    {
     "name": "stdout",
     "output_type": "stream",
     "text": [
      "this is my class 2\n"
     ]
    }
   ],
   "source": [
    "obj_class3.test_class2()"
   ]
  },
  {
   "cell_type": "markdown",
   "id": "81bc7738-d7db-425a-af7f-87a03aa192ac",
   "metadata": {},
   "source": [
    "Abstract"
   ]
  },
  {
   "cell_type": "code",
   "execution_count": 13,
   "id": "4759d87c-406b-43dc-98d3-af06b36aa87f",
   "metadata": {},
   "outputs": [],
   "source": [
    "import abc\n",
    "\n",
    "class pwskills:\n",
    "    \n",
    "    @abc.abstractmethod\n",
    "    \n",
    "    def student_details(self):\n",
    "        pass\n",
    "    \n",
    "    @abc.abstractmethod\n",
    "    \n",
    "    def student_assisgnment(self):\n",
    "        pass\n",
    "    \n",
    "    @abc.abstractmethod\n",
    "    def student_marks(self):\n",
    "        pass"
   ]
  },
  {
   "cell_type": "code",
   "execution_count": 14,
   "id": "714c742a-b1df-474f-822f-a08682a098ba",
   "metadata": {},
   "outputs": [],
   "source": [
    "class data_science(pwskills):\n",
    "    \n",
    "    def student_details(self):\n",
    "            return \"it will try to return data science masters\"\n",
    "        \n",
    "    def student_assisgnment(self):\n",
    "        return \"it will return details of student assignment of data science masters\""
   ]
  },
  {
   "cell_type": "code",
   "execution_count": 15,
   "id": "de49a0bc-2d66-4c0d-bc0b-2ad5cbfbf6de",
   "metadata": {},
   "outputs": [],
   "source": [
    "class web_dev(pwskills):\n",
    "    \n",
    "    def student_details(self):\n",
    "        return \"this will return the details of web dev students\"\n",
    "    \n",
    "    \n",
    "    def student_marks(self):\n",
    "        return \"this will return marks of web dev class\"\n",
    "    "
   ]
  },
  {
   "cell_type": "code",
   "execution_count": 16,
   "id": "5b0e9d2a-5014-4c7c-a3b7-8f91e90e8163",
   "metadata": {},
   "outputs": [
    {
     "data": {
      "text/plain": [
       "'it will try to return data science masters'"
      ]
     },
     "execution_count": 16,
     "metadata": {},
     "output_type": "execute_result"
    }
   ],
   "source": [
    "ds = data_science()\n",
    "ds.student_details()"
   ]
  },
  {
   "cell_type": "code",
   "execution_count": 17,
   "id": "d6f74d81-4018-4d0f-8701-33c41acd628e",
   "metadata": {},
   "outputs": [
    {
     "data": {
      "text/plain": [
       "'this will return marks of web dev class'"
      ]
     },
     "execution_count": 17,
     "metadata": {},
     "output_type": "execute_result"
    }
   ],
   "source": [
    "wd = web_dev()\n",
    "wd.student_marks()"
   ]
  },
  {
   "cell_type": "code",
   "execution_count": null,
   "id": "f128bfd2-48be-4f8f-92c6-a7e830e0062b",
   "metadata": {},
   "outputs": [],
   "source": []
  }
 ],
 "metadata": {
  "kernelspec": {
   "display_name": "Python 3 (ipykernel)",
   "language": "python",
   "name": "python3"
  },
  "language_info": {
   "codemirror_mode": {
    "name": "ipython",
    "version": 3
   },
   "file_extension": ".py",
   "mimetype": "text/x-python",
   "name": "python",
   "nbconvert_exporter": "python",
   "pygments_lexer": "ipython3",
   "version": "3.10.8"
  }
 },
 "nbformat": 4,
 "nbformat_minor": 5
}
