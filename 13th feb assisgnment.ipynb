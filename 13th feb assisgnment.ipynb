{
 "cells": [
  {
   "cell_type": "markdown",
   "id": "b5e11891-7d62-4885-873b-43869d75251c",
   "metadata": {},
   "source": [
    "1. Explain why we have to use the Exception class while creating a Custom Exception."
   ]
  },
  {
   "cell_type": "markdown",
   "id": "3c54fed9-9eda-4900-8c04-1707fdf43bda",
   "metadata": {},
   "source": [
    "ans:- Using the Exception class as the base class for creating custom exceptions in programming languages like Python is a common practice for several important reasons:\n",
    "\n",
    "Consistency and Compatibility: In most programming languages, including Python, there is a hierarchy of exception classes. The Exception class typically serves as the base class for all exceptions. When you create a custom exception by inheriting from the Exception class, you ensure that your custom exception is consistent with the existing exception hierarchy. This consistency is crucial because it allows you to handle both built-in and custom exceptions in a consistent manner in your code.\n",
    "\n",
    "Polymorphism: In object-oriented programming, polymorphism allows you to treat objects of derived classes as objects of their base class. By inheriting from the Exception class, your custom exception can be treated as an exception just like any other built-in exception. This makes it easier to catch and handle your custom exceptions alongside standard exceptions using a common except block.\n",
    "\n",
    "Clarity and Documentation: Using the Exception class as the base class for your custom exceptions makes your code more self-explanatory and understandable. When other developers read your code, they can immediately recognize that your custom exception is an exception class, making the code more maintainable and easier to document.\n",
    "\n",
    "Interoperability: If you're developing a library or module that others may use, it's important to ensure that your custom exceptions can seamlessly integrate with other code. By following the convention of inheriting from the Exception class, you ensure that your exceptions can be caught and handled by users of your code without any surprises.\n",
    "\n",
    "Built-in Exception Handling: Most programming languages provide built-in mechanisms for handling exceptions. When you inherit from the Exception class, your custom exceptions can take advantage of these built-in features, such as try-except blocks, without any additional configuration.\n",
    "\n"
   ]
  },
  {
   "cell_type": "markdown",
   "id": "137d7ad7-e5c9-44aa-8e15-3401d5e4efb0",
   "metadata": {},
   "source": [
    "2. Write a python program to print Python Exception Hierarchy."
   ]
  },
  {
   "cell_type": "code",
   "execution_count": 1,
   "id": "1e6ae9e1-50d8-4470-a3f4-bc442e3c6313",
   "metadata": {},
   "outputs": [
    {
     "name": "stdout",
     "output_type": "stream",
     "text": [
      "Python Exception Hierarchy:\n",
      "BaseException\n",
      "  object\n"
     ]
    }
   ],
   "source": [
    "def print_exception_hierarchy(exception_class, depth=0):\n",
    "    indent = \"  \" * depth\n",
    "    print(f\"{indent}{exception_class.__name__}\")\n",
    "    \n",
    "    # Recursively print base classes\n",
    "    for base_class in exception_class.__bases__:\n",
    "        print_exception_hierarchy(base_class, depth + 1)\n",
    "\n",
    "if __name__ == \"__main__\":\n",
    "    print(\"Python Exception Hierarchy:\")\n",
    "    print_exception_hierarchy(BaseException)\n"
   ]
  },
  {
   "cell_type": "markdown",
   "id": "be112d66-dc09-454c-90d8-74524202e35b",
   "metadata": {},
   "source": [
    "3. What errors are defined in the ArithmeticError class? Explain any two with an example."
   ]
  },
  {
   "cell_type": "markdown",
   "id": "fb3b88ff-77c3-4063-8f85-76ad8c6b9557",
   "metadata": {},
   "source": [
    "ans- In Python, the ArithmeticError class is a base class for exceptions that occur during arithmetic operations. It serves as a parent class for more specific arithmetic-related exception classes. Two commonly encountered errors that are defined in the ArithmeticError class are:\n",
    "\n",
    "ZeroDivisionError:\n",
    "\n",
    "This error occurs when you try to divide a number by zero. Division by zero is mathematically undefined, and Python raises a ZeroDivisionError when it encounters such a situation.\n",
    "Example:"
   ]
  },
  {
   "cell_type": "code",
   "execution_count": 2,
   "id": "56e731c8-7fa3-46d0-bd20-0ada241f77a7",
   "metadata": {},
   "outputs": [
    {
     "name": "stdout",
     "output_type": "stream",
     "text": [
      "Error: division by zero\n"
     ]
    }
   ],
   "source": [
    "numerator = 10\n",
    "denominator = 0\n",
    "\n",
    "try:\n",
    "    result = numerator / denominator\n",
    "except ZeroDivisionError as e:\n",
    "    print(\"Error:\", e)\n"
   ]
  },
  {
   "cell_type": "markdown",
   "id": "e5f83b12-2ac0-447c-9552-3234e45868d4",
   "metadata": {},
   "source": [
    "In this example, attempting to divide numerator by denominator results in a ZeroDivisionError because we can not divide by zero.\n",
    "\n",
    "OverflowError:\n",
    "\n",
    "This error occurs when a calculation exceeds the maximum representable value for a numerical type. It usually happens when we're working with integers or floating-point numbers, and the result is too large to be stored in the given data type.\n",
    "Example:-"
   ]
  },
  {
   "cell_type": "code",
   "execution_count": 7,
   "id": "69b06810-fecc-43ad-9bd8-a078d38a7019",
   "metadata": {},
   "outputs": [],
   "source": [
    "import sys\n",
    "\n",
    "try:\n",
    "    result = sys.maxsize + 1  # Attempt to exceed the maximum representable value for integers\n",
    "except OverflowError as e:\n",
    "    print(\"Error:\", e)\n"
   ]
  },
  {
   "cell_type": "markdown",
   "id": "115224e0-71b8-4128-9459-4a9d2aea4b2f",
   "metadata": {},
   "source": [
    "In this example, we attempt to add 1 to the maximum integer value representable by the system (usually sys.maxsize), which leads to an OverflowError because it exceeds the limit of the integer data type."
   ]
  },
  {
   "cell_type": "markdown",
   "id": "dbed3871-5548-4c62-970b-100f877734e4",
   "metadata": {},
   "source": [
    "4.  Why Lookup Error class is used? Explain with an example Key Error and Index Error."
   ]
  },
  {
   "cell_type": "markdown",
   "id": "783ef249-968a-4ad7-bcd3-7235cfb697dc",
   "metadata": {},
   "source": [
    "ans- In Python, the LookupError class is a base class for exceptions that occur when you try to access an element or value that doesn't exist. It is not meant to be used directly but serves as a parent class for more specific lookup-related exceptions, such as KeyError and IndexError. These specific exceptions provide more information about the type of error that occurred, making it easier to diagnose and handle issues in your code.\n",
    "\n",
    "Here's an explanation of KeyError and IndexError, along with examples:\n",
    "\n",
    "KeyError:\n",
    "\n",
    "A KeyError occurs when you try to access a dictionary with a key that doesn't exist in the dictionary.\n",
    "It is raised when you attempt to retrieve a value using a key that is not present in the dictionary.\n",
    "Example:"
   ]
  },
  {
   "cell_type": "code",
   "execution_count": 8,
   "id": "e985cb1f-3f59-47ec-be62-c04c5862f132",
   "metadata": {},
   "outputs": [
    {
     "name": "stdout",
     "output_type": "stream",
     "text": [
      "KeyError: 'gender'\n"
     ]
    }
   ],
   "source": [
    "# Creating a dictionary\n",
    "my_dict = {'name': 'Alice', 'age': 30, 'city': 'New York'}\n",
    "\n",
    "# Attempting to access a key that doesn't exist\n",
    "try:\n",
    "    print(my_dict['gender'])  # 'gender' key doesn't exist\n",
    "except KeyError as e:\n",
    "    print(f\"KeyError: {e}\")\n"
   ]
  },
  {
   "cell_type": "markdown",
   "id": "66db1ea1-e7cc-4b31-ab11-27424237c39b",
   "metadata": {},
   "source": [
    "IndexError:\n",
    "\n",
    "An IndexError occurs when you try to access a sequence (like a list or a string) using an index that is out of range.\n",
    "It is raised when you attempt to access an element at an index that doesn't exist in the sequence.\n",
    "Example:"
   ]
  },
  {
   "cell_type": "code",
   "execution_count": 9,
   "id": "42a51ecb-9d97-4633-9461-297580d916a3",
   "metadata": {},
   "outputs": [
    {
     "name": "stdout",
     "output_type": "stream",
     "text": [
      "IndexError: list index out of range\n"
     ]
    }
   ],
   "source": [
    "# Creating a list\n",
    "my_list = [10, 20, 30, 40, 50]\n",
    "\n",
    "# Attempting to access an index that is out of range\n",
    "try:\n",
    "    print(my_list[10])  # Index 10 doesn't exist\n",
    "except IndexError as e:\n",
    "    print(f\"IndexError: {e}\")\n"
   ]
  },
  {
   "cell_type": "markdown",
   "id": "bfd9e369-8378-4d30-80c6-4392aab6fd66",
   "metadata": {},
   "source": [
    "In both examples, the LookupError class is not directly used, but it represents a broader category of exceptions that includes KeyError and IndexError. These specific exceptions help us identify the exact nature of the problem in our code, making it easier to handle such errors gracefully and provide meaningful error messages to users or developers."
   ]
  },
  {
   "cell_type": "markdown",
   "id": "29e34da9-a72d-430f-b5fa-f1cff89135af",
   "metadata": {},
   "source": [
    "5. Explain ImportError. What is ModuleNotFoundError?"
   ]
  },
  {
   "cell_type": "markdown",
   "id": "45e961e7-9fd2-4c85-9066-3416e2f818ca",
   "metadata": {},
   "source": [
    "ans- An \"ImportError\" and a \"ModuleNotFoundError\" are both Python exceptions that occur when we encounter problems while trying to import a module or package into our Python script. These errors indicate that Python cannot find or load the module we are trying to use.\n",
    "\n",
    "Here's an explanation of each error:\n",
    "\n",
    "ImportError:\n",
    "\n",
    "An ImportError occurs when Python is unable to import a module for some reason. This error can occur for various reasons, such as:\n",
    "The module we are trying to import does not exist in the Python standard library or the current working directory.\n",
    "There is a typo or incorrect naming in the module name we are trying to import.\n",
    "The module we are trying to import depends on other modules or packages that are not installed or cannot be imported themselves.\n",
    "\n",
    "\n",
    "\n",
    "\n",
    "ModuleNotFoundError:\n",
    "\n",
    "A ModuleNotFoundError is a specific type of ImportError introduced in Python 3.6. It is raised when Python cannot locate the module we are trying to import.\n",
    "This error message provides more information about the module that was not found, making it easier to identify the issue."
   ]
  },
  {
   "cell_type": "markdown",
   "id": "3a75ef21-b04a-4529-a8db-70c3464326c1",
   "metadata": {},
   "source": [
    "6. List down some best practices for exception handling in python."
   ]
  },
  {
   "cell_type": "markdown",
   "id": "9ad2187c-ea46-4492-bad6-cade91b90e55",
   "metadata": {},
   "source": [
    "ans- Exception handling is a crucial aspect of writing robust and maintainable Python code. Here are some best practices for exception handling in Python:\n",
    "\n",
    "Use Specific Exceptions: Catch specific exceptions whenever possible rather than using a generic except block. This helps us handle errors more precisely and avoids unintentionally hiding other issues.\n",
    "\n",
    "\n",
    "\n",
    "2. Avoid Using Bare except: Avoid using except: without specifying an exception type, as it can catch unexpected errors and make debugging difficult. If we need a generic catch-all, consider logging the error for debugging purposes.\n",
    "\n",
    "\n",
    "3.Use finally for Cleanup: If we need to ensure that certain actions (e.g., closing a file or database connection) are taken regardless of whether an exception occurs, use the finally block.\n",
    "\n",
    "\n",
    "4.Custom Exceptions: Define custom exception classes when appropriate to make we code more expressive and understandable. This allows us to create exceptions specific to our application domain."
   ]
  },
  {
   "cell_type": "code",
   "execution_count": null,
   "id": "9ce94ef8-40a7-452d-87f2-3fc229989baa",
   "metadata": {},
   "outputs": [],
   "source": []
  },
  {
   "cell_type": "code",
   "execution_count": null,
   "id": "28226149-c89a-4e0c-bdc2-c11ccff926ce",
   "metadata": {},
   "outputs": [],
   "source": []
  },
  {
   "cell_type": "code",
   "execution_count": null,
   "id": "286c5e7e-0f23-42c6-b6e7-1ec19ac8c154",
   "metadata": {},
   "outputs": [],
   "source": []
  },
  {
   "cell_type": "code",
   "execution_count": null,
   "id": "4e47aaf8-24db-444e-b09d-42b76db62c85",
   "metadata": {},
   "outputs": [],
   "source": []
  },
  {
   "cell_type": "code",
   "execution_count": null,
   "id": "fc024d07-b692-4a12-9899-481ca3410966",
   "metadata": {},
   "outputs": [],
   "source": []
  },
  {
   "cell_type": "code",
   "execution_count": null,
   "id": "cb110616-34b6-414b-9b36-473af7fb6d36",
   "metadata": {},
   "outputs": [],
   "source": []
  },
  {
   "cell_type": "code",
   "execution_count": null,
   "id": "61d07ae3-195d-448b-9e97-a95666b863ee",
   "metadata": {},
   "outputs": [],
   "source": []
  }
 ],
 "metadata": {
  "kernelspec": {
   "display_name": "Python 3 (ipykernel)",
   "language": "python",
   "name": "python3"
  },
  "language_info": {
   "codemirror_mode": {
    "name": "ipython",
    "version": 3
   },
   "file_extension": ".py",
   "mimetype": "text/x-python",
   "name": "python",
   "nbconvert_exporter": "python",
   "pygments_lexer": "ipython3",
   "version": "3.10.8"
  }
 },
 "nbformat": 4,
 "nbformat_minor": 5
}
