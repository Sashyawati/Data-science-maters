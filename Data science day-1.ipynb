{
 "cells": [
  {
   "cell_type": "code",
   "execution_count": 4,
   "id": "cdad78b9-8c9b-4804-8bb5-52b2ddfdcd8f",
   "metadata": {},
   "outputs": [
    {
     "name": "stdout",
     "output_type": "stream",
     "text": [
      "You are eligible to vote\n"
     ]
    }
   ],
   "source": [
    "## If Statemennts\n",
    "age= 18\n",
    "if age>= 18:\n",
    "    print(\"You are eligible to vote\")"
   ]
  },
  {
   "cell_type": "code",
   "execution_count": 5,
   "id": "f4523230-21de-42ab-a22f-58d6cdf22deb",
   "metadata": {},
   "outputs": [
    {
     "name": "stdout",
     "output_type": "stream",
     "text": [
      "You are not eligible to vote\n"
     ]
    }
   ],
   "source": [
    "## : this colon indicates the start of if block\n",
    "if age<= 18:\n",
    "    print(\"You are not eligible to vote\")"
   ]
  },
  {
   "cell_type": "code",
   "execution_count": 6,
   "id": "19e8399a-e2e7-4fb0-bd56-ed780f6791db",
   "metadata": {},
   "outputs": [
    {
     "data": {
      "text/plain": [
       "True"
      ]
     },
     "execution_count": 6,
     "metadata": {},
     "output_type": "execute_result"
    }
   ],
   "source": [
    "17<18\n"
   ]
  },
  {
   "cell_type": "code",
   "execution_count": 7,
   "id": "e0e2758b-7927-489e-aac8-c1d8444f59cc",
   "metadata": {},
   "outputs": [
    {
     "data": {
      "text/plain": [
       "False"
      ]
     },
     "execution_count": 7,
     "metadata": {},
     "output_type": "execute_result"
    }
   ],
   "source": [
    "18<18"
   ]
  },
  {
   "cell_type": "code",
   "execution_count": 9,
   "id": "f9f468fd-3fde-48d6-aa7b-4a5bf9991fa1",
   "metadata": {},
   "outputs": [
    {
     "name": "stdin",
     "output_type": "stream",
     "text": [
      " sashyawati deka\n"
     ]
    },
    {
     "data": {
      "text/plain": [
       "'sashyawati deka'"
      ]
     },
     "execution_count": 9,
     "metadata": {},
     "output_type": "execute_result"
    }
   ],
   "source": [
    "input()"
   ]
  },
  {
   "cell_type": "code",
   "execution_count": 10,
   "id": "742ad6e2-3201-4618-9ba4-e4966570a1d7",
   "metadata": {},
   "outputs": [
    {
     "name": "stdin",
     "output_type": "stream",
     "text": [
      "Enter the name sashyawati deka\n"
     ]
    }
   ],
   "source": [
    "name=input(\"Enter the name\")"
   ]
  },
  {
   "cell_type": "code",
   "execution_count": 11,
   "id": "a9ca8a0e-5ac3-4eab-8d61-c6ed1631e092",
   "metadata": {},
   "outputs": [
    {
     "data": {
      "text/plain": [
       "'sashyawati deka'"
      ]
     },
     "execution_count": 11,
     "metadata": {},
     "output_type": "execute_result"
    }
   ],
   "source": [
    "name"
   ]
  },
  {
   "cell_type": "code",
   "execution_count": 12,
   "id": "82d3ba57-73d0-4187-ae16-9454b4cc8c77",
   "metadata": {},
   "outputs": [
    {
     "name": "stdin",
     "output_type": "stream",
     "text": [
      "Enter your age 25\n"
     ]
    }
   ],
   "source": [
    "age=int(input(\"Enter your age\"))"
   ]
  },
  {
   "cell_type": "code",
   "execution_count": 13,
   "id": "560c391f-ca4d-48db-8236-b75ac831ac20",
   "metadata": {},
   "outputs": [
    {
     "data": {
      "text/plain": [
       "25"
      ]
     },
     "execution_count": 13,
     "metadata": {},
     "output_type": "execute_result"
    }
   ],
   "source": [
    "age\n"
   ]
  },
  {
   "cell_type": "code",
   "execution_count": 14,
   "id": "84cc0a7c-8c9c-4328-8ae7-654c5f28790d",
   "metadata": {},
   "outputs": [
    {
     "data": {
      "text/plain": [
       "int"
      ]
     },
     "execution_count": 14,
     "metadata": {},
     "output_type": "execute_result"
    }
   ],
   "source": [
    "type(age)"
   ]
  },
  {
   "cell_type": "code",
   "execution_count": 15,
   "id": "6a90b3f6-8df5-43d7-931f-66f30cbf9cc4",
   "metadata": {},
   "outputs": [
    {
     "data": {
      "text/plain": [
       "str"
      ]
     },
     "execution_count": 15,
     "metadata": {},
     "output_type": "execute_result"
    }
   ],
   "source": [
    "type(name)"
   ]
  },
  {
   "cell_type": "code",
   "execution_count": 16,
   "id": "6c0faa16-0a2d-47da-8e07-df4c4541bdf3",
   "metadata": {},
   "outputs": [],
   "source": [
    "## mall- input the product price\n",
    "## product >1000 rs20% off\n",
    "##print the product price\n",
    "## product <=1000 rs 30% off\n",
    "##print the product price\n",
    "##print the product price after removing the discount\n"
   ]
  },
  {
   "cell_type": "code",
   "execution_count": 18,
   "id": "ad0e5956-0822-4692-be43-014796d939fc",
   "metadata": {},
   "outputs": [
    {
     "name": "stdout",
     "output_type": "stream",
     "text": [
      "congratulation you are eligible for 20%off\n"
     ]
    }
   ],
   "source": [
    "price= 2000\n",
    "if price>= 1000:\n",
    "    print(\"congratulation you are eligible for 20%off\")\n",
    "    \n",
    "else price<= 1000:\n",
    "    print(\"congratulation you are eligible for 30%off\")"
   ]
  },
  {
   "cell_type": "code",
   "execution_count": 19,
   "id": "e0c695bb-ff98-4582-be68-ab7d2cdfb8c8",
   "metadata": {},
   "outputs": [
    {
     "name": "stdin",
     "output_type": "stream",
     "text": [
      "Enter the price 2000\n"
     ]
    }
   ],
   "source": [
    "price=int(input(\"Enter the price\"))"
   ]
  },
  {
   "cell_type": "code",
   "execution_count": 20,
   "id": "5b897882-e69b-4838-af2e-3b3c008014c4",
   "metadata": {},
   "outputs": [
    {
     "data": {
      "text/plain": [
       "2000"
      ]
     },
     "execution_count": 20,
     "metadata": {},
     "output_type": "execute_result"
    }
   ],
   "source": [
    "price"
   ]
  },
  {
   "cell_type": "code",
   "execution_count": 21,
   "id": "ea4fd2f9-e797-47f2-8967-19bb04c29187",
   "metadata": {},
   "outputs": [
    {
     "data": {
      "text/plain": [
       "True"
      ]
     },
     "execution_count": 21,
     "metadata": {},
     "output_type": "execute_result"
    }
   ],
   "source": [
    "2000>1000\n"
   ]
  },
  {
   "cell_type": "code",
   "execution_count": 22,
   "id": "b4584d3c-28de-4c41-82c2-9eb42e7630ab",
   "metadata": {},
   "outputs": [
    {
     "data": {
      "text/plain": [
       "True"
      ]
     },
     "execution_count": 22,
     "metadata": {},
     "output_type": "execute_result"
    }
   ],
   "source": [
    "800<1000"
   ]
  },
  {
   "cell_type": "code",
   "execution_count": 23,
   "id": "b5254627-a340-42bd-8429-cbbabcc1273b",
   "metadata": {},
   "outputs": [
    {
     "data": {
      "text/plain": [
       "False"
      ]
     },
     "execution_count": 23,
     "metadata": {},
     "output_type": "execute_result"
    }
   ],
   "source": [
    "900>1000"
   ]
  },
  {
   "cell_type": "code",
   "execution_count": 24,
   "id": "88d3b5bb-8a25-46ad-893f-e83006384f12",
   "metadata": {},
   "outputs": [],
   "source": [
    "# mall- input the product price\n",
    "## product >1000 rs20% off\n",
    "##print the product price\n",
    "## product <=1000 rs 30% off\n",
    "##print the product price\n",
    "##print the product price after removing the discount\n"
   ]
  },
  {
   "cell_type": "code",
   "execution_count": 27,
   "id": "5619bc2b-c629-4817-b272-eecc91512aa0",
   "metadata": {},
   "outputs": [
    {
     "name": "stdin",
     "output_type": "stream",
     "text": [
      "Enter the price 5000\n"
     ]
    },
    {
     "name": "stdout",
     "output_type": "stream",
     "text": [
      "The price of the product is 4000.0\n"
     ]
    }
   ],
   "source": [
    "product_price=int(input(\"Enter the price\"))\n",
    "if product_price>1000:\n",
    "    print(\"The price of the product is {}\" .format(product_price*0.8))\n",
    "else:\n",
    "     print(\"The price of the product is {}\" .format(product_price*0.7))"
   ]
  },
  {
   "cell_type": "code",
   "execution_count": null,
   "id": "90bde3ce-d151-45ac-bbb3-9e209a22ce2d",
   "metadata": {},
   "outputs": [],
   "source": []
  },
  {
   "cell_type": "code",
   "execution_count": null,
   "id": "018063f4-ea73-4e01-9b6b-4fecbcc107de",
   "metadata": {},
   "outputs": [],
   "source": []
  },
  {
   "cell_type": "code",
   "execution_count": null,
   "id": "537783fb-2277-4216-b0e1-d166ea1aa811",
   "metadata": {},
   "outputs": [],
   "source": [
    "\n"
   ]
  },
  {
   "cell_type": "code",
   "execution_count": null,
   "id": "ddcde16e-83ef-4334-a9f5-22b004e55748",
   "metadata": {},
   "outputs": [],
   "source": [
    "\n"
   ]
  }
 ],
 "metadata": {
  "kernelspec": {
   "display_name": "Python 3 (ipykernel)",
   "language": "python",
   "name": "python3"
  },
  "language_info": {
   "codemirror_mode": {
    "name": "ipython",
    "version": 3
   },
   "file_extension": ".py",
   "mimetype": "text/x-python",
   "name": "python",
   "nbconvert_exporter": "python",
   "pygments_lexer": "ipython3",
   "version": "3.10.8"
  }
 },
 "nbformat": 4,
 "nbformat_minor": 5
}
