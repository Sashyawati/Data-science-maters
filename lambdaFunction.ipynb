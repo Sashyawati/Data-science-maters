{
 "cells": [
  {
   "cell_type": "code",
   "execution_count": 2,
   "id": "a31711ab-b9b5-4275-9369-df0735e9aad6",
   "metadata": {},
   "outputs": [],
   "source": [
    "n = 3\n",
    "p = 3"
   ]
  },
  {
   "cell_type": "code",
   "execution_count": 3,
   "id": "113d43db-18c4-46ec-b379-231b6a155b24",
   "metadata": {},
   "outputs": [],
   "source": [
    "def test(n,p):\n",
    "    return n**p"
   ]
  },
  {
   "cell_type": "code",
   "execution_count": 4,
   "id": "9b84f685-70bd-4c2a-84d3-a113c3cb089e",
   "metadata": {},
   "outputs": [
    {
     "data": {
      "text/plain": [
       "9"
      ]
     },
     "execution_count": 4,
     "metadata": {},
     "output_type": "execute_result"
    }
   ],
   "source": [
    "test(3,2)"
   ]
  },
  {
   "cell_type": "code",
   "execution_count": 5,
   "id": "2b568b00-224a-4249-a315-61f6262694d6",
   "metadata": {},
   "outputs": [
    {
     "data": {
      "text/plain": [
       "65536"
      ]
     },
     "execution_count": 5,
     "metadata": {},
     "output_type": "execute_result"
    }
   ],
   "source": [
    "test(4,8)"
   ]
  },
  {
   "cell_type": "code",
   "execution_count": 6,
   "id": "e2f2f382-14f2-4d46-b516-33a1c7764a1c",
   "metadata": {},
   "outputs": [
    {
     "data": {
      "text/plain": [
       "<function __main__.<lambda>(n, p)>"
      ]
     },
     "execution_count": 6,
     "metadata": {},
     "output_type": "execute_result"
    }
   ],
   "source": [
    "##short hand function\n",
    "lambda n,p: n**p"
   ]
  },
  {
   "cell_type": "code",
   "execution_count": 7,
   "id": "e6f13764-9cd7-47c4-8f93-49ae3303d80c",
   "metadata": {},
   "outputs": [],
   "source": [
    "a = lambda n,p: n**p"
   ]
  },
  {
   "cell_type": "code",
   "execution_count": 8,
   "id": "0a001517-32f9-4daf-b17d-761440c45f7f",
   "metadata": {},
   "outputs": [
    {
     "data": {
      "text/plain": [
       "65536"
      ]
     },
     "execution_count": 8,
     "metadata": {},
     "output_type": "execute_result"
    }
   ],
   "source": [
    "a(4,8)"
   ]
  },
  {
   "cell_type": "code",
   "execution_count": 1,
   "id": "556f0214-41e0-4642-8a2f-f1cc1e59a94b",
   "metadata": {},
   "outputs": [],
   "source": [
    "add = lambda x,y: x+y"
   ]
  },
  {
   "cell_type": "code",
   "execution_count": 2,
   "id": "29b91276-3b19-4a2f-81e4-5ae9f4388efa",
   "metadata": {},
   "outputs": [
    {
     "data": {
      "text/plain": [
       "8"
      ]
     },
     "execution_count": 2,
     "metadata": {},
     "output_type": "execute_result"
    }
   ],
   "source": [
    "add(4,4)"
   ]
  },
  {
   "cell_type": "code",
   "execution_count": 3,
   "id": "00e2c26f-6963-4e69-a8a1-db4ab768e7df",
   "metadata": {},
   "outputs": [],
   "source": [
    "##celsius to fareheit convert\n",
    "c_to_f = lambda c:(9/5)*c+32"
   ]
  },
  {
   "cell_type": "code",
   "execution_count": 4,
   "id": "8c7ebc37-c1a8-460c-acd9-a411245ac7e6",
   "metadata": {},
   "outputs": [
    {
     "data": {
      "text/plain": [
       "89.6"
      ]
     },
     "execution_count": 4,
     "metadata": {},
     "output_type": "execute_result"
    }
   ],
   "source": [
    "c_to_f(32)"
   ]
  },
  {
   "cell_type": "code",
   "execution_count": 5,
   "id": "38d59683-5eaf-408c-8254-6e2fde07e728",
   "metadata": {},
   "outputs": [],
   "source": [
    "##find the maximus number in b/w two number usinglambda function\n",
    "\n",
    "max_two_nunbers = lambda x,y: x if x > y else y"
   ]
  },
  {
   "cell_type": "code",
   "execution_count": 6,
   "id": "38e94d51-e29e-4450-90d5-0d2bbed98384",
   "metadata": {},
   "outputs": [
    {
     "data": {
      "text/plain": [
       "46"
      ]
     },
     "execution_count": 6,
     "metadata": {},
     "output_type": "execute_result"
    }
   ],
   "source": [
    "max_two_nunbers(4,46)"
   ]
  },
  {
   "cell_type": "code",
   "execution_count": 7,
   "id": "39de2bfa-42ad-4e90-abbc-79079f65874a",
   "metadata": {},
   "outputs": [],
   "source": [
    "s = \"pwskills\""
   ]
  },
  {
   "cell_type": "code",
   "execution_count": 8,
   "id": "69d83b43-a579-4d6e-a03f-ab8307e6c7c3",
   "metadata": {},
   "outputs": [],
   "source": [
    "len_st = lambda s: len(s)"
   ]
  },
  {
   "cell_type": "code",
   "execution_count": 9,
   "id": "9da327da-6084-4002-baf9-902031baa29b",
   "metadata": {},
   "outputs": [
    {
     "data": {
      "text/plain": [
       "8"
      ]
     },
     "execution_count": 9,
     "metadata": {},
     "output_type": "execute_result"
    }
   ],
   "source": [
    "len_st(s)"
   ]
  },
  {
   "cell_type": "code",
   "execution_count": null,
   "id": "125dc1b8-8f87-42b9-aa96-2fc29d83a01b",
   "metadata": {},
   "outputs": [],
   "source": []
  },
  {
   "cell_type": "code",
   "execution_count": null,
   "id": "b67a3e39-4db2-47ea-9829-581a418a5a17",
   "metadata": {},
   "outputs": [],
   "source": [
    "\n"
   ]
  }
 ],
 "metadata": {
  "kernelspec": {
   "display_name": "Python 3 (ipykernel)",
   "language": "python",
   "name": "python3"
  },
  "language_info": {
   "codemirror_mode": {
    "name": "ipython",
    "version": 3
   },
   "file_extension": ".py",
   "mimetype": "text/x-python",
   "name": "python",
   "nbconvert_exporter": "python",
   "pygments_lexer": "ipython3",
   "version": "3.10.8"
  }
 },
 "nbformat": 4,
 "nbformat_minor": 5
}
