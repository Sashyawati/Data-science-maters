{
 "cells": [
  {
   "cell_type": "code",
   "execution_count": 1,
   "id": "0825e8e6-9213-4568-956e-5c9e51dcbb5d",
   "metadata": {},
   "outputs": [
    {
     "name": "stdout",
     "output_type": "stream",
     "text": [
      "this is my prog\n"
     ]
    }
   ],
   "source": [
    "print('this is my prog')"
   ]
  },
  {
   "cell_type": "code",
   "execution_count": 2,
   "id": "19088e2e-55fc-44d6-8b2d-b97b6a56e04d",
   "metadata": {},
   "outputs": [],
   "source": [
    "l = [1,2,4,5]"
   ]
  },
  {
   "cell_type": "code",
   "execution_count": 3,
   "id": "1fea4891-736c-4d2e-b365-84a5f47aaaff",
   "metadata": {},
   "outputs": [
    {
     "data": {
      "text/plain": [
       "4"
      ]
     },
     "execution_count": 3,
     "metadata": {},
     "output_type": "execute_result"
    }
   ],
   "source": [
    "len(l)"
   ]
  },
  {
   "cell_type": "code",
   "execution_count": 4,
   "id": "d285d6c1-aa1e-4583-b6a5-ddc64cd72a70",
   "metadata": {},
   "outputs": [],
   "source": [
    "def test():\n",
    "    pass"
   ]
  },
  {
   "cell_type": "code",
   "execution_count": 5,
   "id": "899f97cc-d595-4695-b36e-5dde7da40e43",
   "metadata": {},
   "outputs": [],
   "source": [
    "def test1():\n",
    "    print('this is my very very first function')\n",
    "    "
   ]
  },
  {
   "cell_type": "code",
   "execution_count": 6,
   "id": "897d518d-5797-4fce-a371-5a790fbb6b4b",
   "metadata": {},
   "outputs": [
    {
     "name": "stdout",
     "output_type": "stream",
     "text": [
      "this is my very very first function\n"
     ]
    }
   ],
   "source": [
    "test1()"
   ]
  },
  {
   "cell_type": "code",
   "execution_count": 7,
   "id": "ec0e9bde-5696-452a-8690-a019c007d125",
   "metadata": {},
   "outputs": [],
   "source": [
    "def test():\n",
    "    pass"
   ]
  },
  {
   "cell_type": "code",
   "execution_count": 8,
   "id": "13b6d4ac-6b0a-4520-a4bf-90002c37d243",
   "metadata": {},
   "outputs": [],
   "source": [
    "def test1():\n",
    "    print('this is my very very first function')"
   ]
  },
  {
   "cell_type": "code",
   "execution_count": 9,
   "id": "11de7038-5b10-434f-a008-684bc489b012",
   "metadata": {},
   "outputs": [
    {
     "name": "stdout",
     "output_type": "stream",
     "text": [
      "this is my very very first function\n"
     ]
    }
   ],
   "source": [
    "test1()"
   ]
  },
  {
   "cell_type": "code",
   "execution_count": 10,
   "id": "e214a5e6-8e9c-4091-9778-5926df920ba0",
   "metadata": {},
   "outputs": [
    {
     "name": "stdout",
     "output_type": "stream",
     "text": [
      "this is my very very first function\n"
     ]
    },
    {
     "ename": "TypeError",
     "evalue": "unsupported operand type(s) for +: 'NoneType' and 'str'",
     "output_type": "error",
     "traceback": [
      "\u001b[0;31m---------------------------------------------------------------------------\u001b[0m",
      "\u001b[0;31mTypeError\u001b[0m                                 Traceback (most recent call last)",
      "Cell \u001b[0;32mIn[10], line 1\u001b[0m\n\u001b[0;32m----> 1\u001b[0m \u001b[43mtest1\u001b[49m\u001b[43m(\u001b[49m\u001b[43m)\u001b[49m\u001b[43m \u001b[49m\u001b[38;5;241;43m+\u001b[39;49m\u001b[43m \u001b[49m\u001b[38;5;124;43m\"\u001b[39;49m\u001b[38;5;124;43mshelly\u001b[39;49m\u001b[38;5;124;43m\"\u001b[39;49m\n",
      "\u001b[0;31mTypeError\u001b[0m: unsupported operand type(s) for +: 'NoneType' and 'str'"
     ]
    }
   ],
   "source": [
    "test1() + \"shelly\""
   ]
  },
  {
   "cell_type": "code",
   "execution_count": null,
   "id": "4f6c3f99-f898-47fc-8c26-a1c81b8c86d4",
   "metadata": {},
   "outputs": [],
   "source": [
    "def test2():\n",
    "    return \"this is my fun with return \"\n",
    "    "
   ]
  },
  {
   "cell_type": "code",
   "execution_count": null,
   "id": "fab6362a-8d29-45ac-9766-9d39b78e0055",
   "metadata": {},
   "outputs": [],
   "source": [
    "test2()"
   ]
  },
  {
   "cell_type": "code",
   "execution_count": null,
   "id": "8f5337d3-8933-4325-8823-9c55f62e5fff",
   "metadata": {},
   "outputs": [],
   "source": [
    "test2() + \" shelly \""
   ]
  },
  {
   "cell_type": "code",
   "execution_count": null,
   "id": "98b0e199-b07a-4802-a8c7-8644f1fe72ff",
   "metadata": {},
   "outputs": [],
   "source": [
    "def test3():\n",
    "    return 1,4,\"pwskills\",37.25"
   ]
  },
  {
   "cell_type": "code",
   "execution_count": null,
   "id": "1794e860-e743-43af-8ddd-684abe8ea300",
   "metadata": {},
   "outputs": [],
   "source": [
    "test3()"
   ]
  },
  {
   "cell_type": "code",
   "execution_count": null,
   "id": "d0ddf8ba-1310-4411-a339-10d364ce1e53",
   "metadata": {},
   "outputs": [],
   "source": [
    "test3()[0]\n",
    "\n"
   ]
  },
  {
   "cell_type": "code",
   "execution_count": null,
   "id": "bdef65e3-33cb-4a4e-acfb-0075389ac0e7",
   "metadata": {},
   "outputs": [],
   "source": [
    "a,b,c,d = test3()"
   ]
  },
  {
   "cell_type": "code",
   "execution_count": null,
   "id": "9205fb79-6c18-4ee9-b5dc-4020c705cf2d",
   "metadata": {},
   "outputs": [],
   "source": [
    "a"
   ]
  },
  {
   "cell_type": "code",
   "execution_count": null,
   "id": "0da0b41b-a848-4f75-ab52-8fe0f2ec79a8",
   "metadata": {},
   "outputs": [],
   "source": [
    "d"
   ]
  },
  {
   "cell_type": "code",
   "execution_count": null,
   "id": "d12fbde4-3bac-406b-aa96-3d51ed36f7e9",
   "metadata": {},
   "outputs": [],
   "source": [
    "def test4():\n",
    "    a = 3*5+7\n",
    "    return a"
   ]
  },
  {
   "cell_type": "code",
   "execution_count": null,
   "id": "85bd8143-4651-4b7d-92aa-2b4a99733751",
   "metadata": {},
   "outputs": [],
   "source": [
    "test4()"
   ]
  },
  {
   "cell_type": "code",
   "execution_count": null,
   "id": "5091b727-bf8e-4f6b-89d9-827db6290dc2",
   "metadata": {},
   "outputs": [],
   "source": [
    "type(test4())"
   ]
  },
  {
   "cell_type": "code",
   "execution_count": null,
   "id": "567da8da-7c32-4908-a6a4-20bf549efcc5",
   "metadata": {},
   "outputs": [],
   "source": [
    "def test5(a,b):\n",
    "    c = a +b\n",
    "    return c"
   ]
  },
  {
   "cell_type": "code",
   "execution_count": null,
   "id": "b639ab3c-3e72-4e8e-9241-cc8ba12d613d",
   "metadata": {},
   "outputs": [],
   "source": [
    "test5()"
   ]
  },
  {
   "cell_type": "code",
   "execution_count": null,
   "id": "e61d34df-c6de-4af4-b727-6b3e8e143f0d",
   "metadata": {},
   "outputs": [],
   "source": [
    "test5(9,10)"
   ]
  },
  {
   "cell_type": "code",
   "execution_count": null,
   "id": "57cad73a-ca84-4ae5-a7b3-235d1e28ee3b",
   "metadata": {},
   "outputs": [],
   "source": [
    "test5(\"shelly\" , \"deka\")"
   ]
  },
  {
   "cell_type": "code",
   "execution_count": null,
   "id": "406e24af-43fd-4fbb-83e5-9e1a03ecb76a",
   "metadata": {},
   "outputs": [],
   "source": [
    "test5(b = \"tata\" ,a = \"ratan\")"
   ]
  },
  {
   "cell_type": "code",
   "execution_count": 3,
   "id": "ba956474-7899-4b3d-b277-73a454ccf413",
   "metadata": {},
   "outputs": [],
   "source": [
    "l = [1,2,3,4, \"shelly\",\"pwskills\",[1,2,3,35,31]]\n",
    "##create a function which will take  list as input and give me a final list with all numeric value"
   ]
  },
  {
   "cell_type": "code",
   "execution_count": 4,
   "id": "790780ab-1b16-44e4-ad22-30705ec61e57",
   "metadata": {},
   "outputs": [],
   "source": [
    "def test6(a):\n",
    "    n = []\n",
    "    for i in a:\n",
    "        if type(i) == int or type(i) == float :\n",
    "            n.append(i)\n",
    "    return n"
   ]
  },
  {
   "cell_type": "code",
   "execution_count": 5,
   "id": "df390160-6842-447b-af2c-8bc89b57fe1d",
   "metadata": {},
   "outputs": [
    {
     "data": {
      "text/plain": [
       "[1, 2, 3, 4]"
      ]
     },
     "execution_count": 5,
     "metadata": {},
     "output_type": "execute_result"
    }
   ],
   "source": [
    "test6(l)"
   ]
  },
  {
   "cell_type": "code",
   "execution_count": null,
   "id": "79daec0a-e7e3-4085-b172-bff308cf9a7c",
   "metadata": {},
   "outputs": [],
   "source": []
  },
  {
   "cell_type": "code",
   "execution_count": null,
   "id": "fc25a1fb-0805-4490-9e88-0f0044985d22",
   "metadata": {},
   "outputs": [],
   "source": []
  },
  {
   "cell_type": "code",
   "execution_count": null,
   "id": "f5fcedbf-71f0-4d1c-9b64-682046b3bcfa",
   "metadata": {},
   "outputs": [],
   "source": []
  },
  {
   "cell_type": "code",
   "execution_count": null,
   "id": "0caeb011-5a6d-4525-9aad-eb2582fd38cd",
   "metadata": {},
   "outputs": [],
   "source": [
    "  "
   ]
  },
  {
   "cell_type": "code",
   "execution_count": null,
   "id": "11fca8b6-447c-4bdd-ab26-748cea15ff7a",
   "metadata": {},
   "outputs": [],
   "source": []
  },
  {
   "cell_type": "code",
   "execution_count": null,
   "id": "be56cac9-9113-4e7f-9ce9-2f25be209072",
   "metadata": {},
   "outputs": [],
   "source": []
  }
 ],
 "metadata": {
  "kernelspec": {
   "display_name": "Python 3 (ipykernel)",
   "language": "python",
   "name": "python3"
  },
  "language_info": {
   "codemirror_mode": {
    "name": "ipython",
    "version": 3
   },
   "file_extension": ".py",
   "mimetype": "text/x-python",
   "name": "python",
   "nbconvert_exporter": "python",
   "pygments_lexer": "ipython3",
   "version": "3.10.8"
  }
 },
 "nbformat": 4,
 "nbformat_minor": 5
}
