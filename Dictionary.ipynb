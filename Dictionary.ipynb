{
 "cells": [
  {
   "cell_type": "code",
   "execution_count": 1,
   "id": "2402e9b5-1093-499a-b81e-7b77d9b394fb",
   "metadata": {},
   "outputs": [],
   "source": [
    "d1 = {\"name\": \"shelly\",\"email_id\":\"shelly@d11123\",\"mobile\":23456}"
   ]
  },
  {
   "cell_type": "code",
   "execution_count": 2,
   "id": "78e54427-afdb-4250-90d6-7188e12bec53",
   "metadata": {},
   "outputs": [
    {
     "data": {
      "text/plain": [
       "dict"
      ]
     },
     "execution_count": 2,
     "metadata": {},
     "output_type": "execute_result"
    }
   ],
   "source": [
    "type(d1)"
   ]
  },
  {
   "cell_type": "code",
   "execution_count": 3,
   "id": "d6bb1f30-0440-4788-9934-04ac94e6cc25",
   "metadata": {},
   "outputs": [
    {
     "data": {
      "text/plain": [
       "{'name': 'shelly', 'email_id': 'shelly@d11123', 'mobile': 23456}"
      ]
     },
     "execution_count": 3,
     "metadata": {},
     "output_type": "execute_result"
    }
   ],
   "source": [
    "d1"
   ]
  },
  {
   "cell_type": "code",
   "execution_count": 7,
   "id": "fcaa6f29-2018-4cee-9ffa-6a169c159afa",
   "metadata": {},
   "outputs": [],
   "source": [
    "d2 = {\"name\": \"shelly\",\"name\":\"saswati\"}##in dictionary  the key should be unique,otherwise it will take the new value\n"
   ]
  },
  {
   "cell_type": "code",
   "execution_count": 8,
   "id": "4206ccf8-c37d-46a8-9133-652ef876b085",
   "metadata": {},
   "outputs": [
    {
     "data": {
      "text/plain": [
       "{'name': 'saswati'}"
      ]
     },
     "execution_count": 8,
     "metadata": {},
     "output_type": "execute_result"
    }
   ],
   "source": [
    "d2"
   ]
  },
  {
   "cell_type": "code",
   "execution_count": 9,
   "id": "c261b8e0-7e0a-4ffb-8cd4-7c45b316969e",
   "metadata": {},
   "outputs": [
    {
     "ename": "TypeError",
     "evalue": "unhashable type: 'list'",
     "output_type": "error",
     "traceback": [
      "\u001b[0;31m---------------------------------------------------------------------------\u001b[0m",
      "\u001b[0;31mTypeError\u001b[0m                                 Traceback (most recent call last)",
      "Cell \u001b[0;32mIn[9], line 1\u001b[0m\n\u001b[0;32m----> 1\u001b[0m d3 \u001b[38;5;241m=\u001b[39m {[\u001b[38;5;241m1234\u001b[39m]:\u001b[38;5;124m\"\u001b[39m\u001b[38;5;124mabc\u001b[39m\u001b[38;5;124m\"\u001b[39m}\n",
      "\u001b[0;31mTypeError\u001b[0m: unhashable type: 'list'"
     ]
    }
   ],
   "source": [
    "d3 = {[1234]:\"abc\"}"
   ]
  },
  {
   "cell_type": "code",
   "execution_count": 10,
   "id": "a1fbceb3-1beb-44d6-a3ea-0cc1a9a100d1",
   "metadata": {},
   "outputs": [],
   "source": [
    "d4 = {(1234):\"abc\"}##only tuples can be taken as key"
   ]
  },
  {
   "cell_type": "code",
   "execution_count": 11,
   "id": "f83afdd3-fbc2-4491-9e22-281f3ab6af3d",
   "metadata": {},
   "outputs": [
    {
     "data": {
      "text/plain": [
       "{1234: 'abc'}"
      ]
     },
     "execution_count": 11,
     "metadata": {},
     "output_type": "execute_result"
    }
   ],
   "source": [
    "d4"
   ]
  },
  {
   "cell_type": "code",
   "execution_count": 12,
   "id": "005a1383-7f2f-444b-94fb-e7082373bce0",
   "metadata": {},
   "outputs": [
    {
     "ename": "TypeError",
     "evalue": "unhashable type: 'set'",
     "output_type": "error",
     "traceback": [
      "\u001b[0;31m---------------------------------------------------------------------------\u001b[0m",
      "\u001b[0;31mTypeError\u001b[0m                                 Traceback (most recent call last)",
      "Cell \u001b[0;32mIn[12], line 1\u001b[0m\n\u001b[0;32m----> 1\u001b[0m d5 \u001b[38;5;241m=\u001b[39m {{\u001b[38;5;241m1234\u001b[39m}:\u001b[38;5;124m\"\u001b[39m\u001b[38;5;124mabc\u001b[39m\u001b[38;5;124m\"\u001b[39m}\n",
      "\u001b[0;31mTypeError\u001b[0m: unhashable type: 'set'"
     ]
    }
   ],
   "source": [
    "d5 = {{1234}:\"abc\"}##key can not be list and set except tuple"
   ]
  },
  {
   "cell_type": "code",
   "execution_count": 40,
   "id": "c92e9c90-722f-48f2-abb3-8af4400dc457",
   "metadata": {},
   "outputs": [],
   "source": [
    "d6 = {\"key\":(12345)}##but value can be tuple inside dictionary"
   ]
  },
  {
   "cell_type": "code",
   "execution_count": 14,
   "id": "d51aca4b-d97e-4c63-8c72-c182fe4c6b6c",
   "metadata": {},
   "outputs": [
    {
     "data": {
      "text/plain": [
       "{'key': 12345}"
      ]
     },
     "execution_count": 14,
     "metadata": {},
     "output_type": "execute_result"
    }
   ],
   "source": [
    "d6"
   ]
  },
  {
   "cell_type": "code",
   "execution_count": 15,
   "id": "ee9565ad-d0ac-43ab-805d-34a041fc1234",
   "metadata": {},
   "outputs": [],
   "source": [
    "d7 = {\"key\":{\"dsm\"}}#3set"
   ]
  },
  {
   "cell_type": "code",
   "execution_count": 16,
   "id": "a8d22f2d-5961-47b5-a876-7f1a7456c83b",
   "metadata": {},
   "outputs": [
    {
     "data": {
      "text/plain": [
       "{'key': {'dsm'}}"
      ]
     },
     "execution_count": 16,
     "metadata": {},
     "output_type": "execute_result"
    }
   ],
   "source": [
    "d7"
   ]
  },
  {
   "cell_type": "code",
   "execution_count": 18,
   "id": "d2dd6a3e-ddc1-4075-9c82-21b3c906244d",
   "metadata": {},
   "outputs": [],
   "source": [
    "d8 = {\"key\":{\"name\":\"shelly\",\"study\":\"DSM\"}}##dictionary"
   ]
  },
  {
   "cell_type": "code",
   "execution_count": 19,
   "id": "308a9934-d59b-47ba-af03-b4b51afcf406",
   "metadata": {},
   "outputs": [
    {
     "data": {
      "text/plain": [
       "{'key': {'name': 'shelly', 'study': 'DSM'}}"
      ]
     },
     "execution_count": 19,
     "metadata": {},
     "output_type": "execute_result"
    }
   ],
   "source": [
    "d8"
   ]
  },
  {
   "cell_type": "code",
   "execution_count": 20,
   "id": "9ab0dc1e-7988-42c1-8559-ea5406e22976",
   "metadata": {},
   "outputs": [
    {
     "data": {
      "text/plain": [
       "dict"
      ]
     },
     "execution_count": 20,
     "metadata": {},
     "output_type": "execute_result"
    }
   ],
   "source": [
    "type(d8)"
   ]
  },
  {
   "cell_type": "code",
   "execution_count": 21,
   "id": "0012c755-c5d1-43e9-bde0-0f5d680549b3",
   "metadata": {},
   "outputs": [],
   "source": [
    "d9 = {\"batch_name\":[\"data science masters\",\"web dev\",\"java\"],\"mentor_name\":{\"anurag\",\"hitesh\",\"krish\",\"naveen\"},\"start date\":(28,29,30)}"
   ]
  },
  {
   "cell_type": "code",
   "execution_count": 22,
   "id": "b08d48a8-cc4a-4b15-83af-a30b64fdc26a",
   "metadata": {},
   "outputs": [
    {
     "data": {
      "text/plain": [
       "{'batch_name': ['data science masters', 'web dev', 'java'],\n",
       " 'mentor_name': {'anurag', 'hitesh', 'krish', 'naveen'},\n",
       " 'start date': (28, 29, 30)}"
      ]
     },
     "execution_count": 22,
     "metadata": {},
     "output_type": "execute_result"
    }
   ],
   "source": [
    "d9"
   ]
  },
  {
   "cell_type": "code",
   "execution_count": 5,
   "id": "6bafba41-daee-42e9-8a30-3c830ffb0cef",
   "metadata": {},
   "outputs": [
    {
     "ename": "NameError",
     "evalue": "name 'd9' is not defined",
     "output_type": "error",
     "traceback": [
      "\u001b[0;31m---------------------------------------------------------------------------\u001b[0m",
      "\u001b[0;31mNameError\u001b[0m                                 Traceback (most recent call last)",
      "Cell \u001b[0;32mIn[5], line 1\u001b[0m\n\u001b[0;32m----> 1\u001b[0m \u001b[43md9\u001b[49m[\u001b[38;5;124m\"\u001b[39m\u001b[38;5;124mtiming\u001b[39m\u001b[38;5;124m\"\u001b[39m] \u001b[38;5;241m=\u001b[39m (\u001b[38;5;241m8\u001b[39m,\u001b[38;5;241m8\u001b[39m,\u001b[38;5;241m8\u001b[39m)\n",
      "\u001b[0;31mNameError\u001b[0m: name 'd9' is not defined"
     ]
    }
   ],
   "source": [
    "d9[\"timing\"] = (8,8,8)"
   ]
  },
  {
   "cell_type": "code",
   "execution_count": null,
   "id": "b2094317-1c76-45d0-8ebf-1b15bbf846a0",
   "metadata": {},
   "outputs": [],
   "source": []
  },
  {
   "cell_type": "code",
   "execution_count": 3,
   "id": "647c9815-75ec-4333-b1f2-ac22a4057fca",
   "metadata": {},
   "outputs": [
    {
     "ename": "NameError",
     "evalue": "name 'd9' is not defined",
     "output_type": "error",
     "traceback": [
      "\u001b[0;31m---------------------------------------------------------------------------\u001b[0m",
      "\u001b[0;31mNameError\u001b[0m                                 Traceback (most recent call last)",
      "Cell \u001b[0;32mIn[3], line 1\u001b[0m\n\u001b[0;32m----> 1\u001b[0m \u001b[43md9\u001b[49m[\u001b[38;5;124m\"\u001b[39m\u001b[38;5;124mtiming\u001b[39m\u001b[38;5;124m\"\u001b[39m] \u001b[38;5;241m=\u001b[39m (\u001b[38;5;241m8\u001b[39m,\u001b[38;5;241m8\u001b[39m,\u001b[38;5;241m8\u001b[39m)\n",
      "\u001b[0;31mNameError\u001b[0m: name 'd9' is not defined"
     ]
    }
   ],
   "source": []
  },
  {
   "cell_type": "code",
   "execution_count": null,
   "id": "d55f1a69-e45a-4bca-8797-7cb49803ed9f",
   "metadata": {},
   "outputs": [],
   "source": []
  },
  {
   "cell_type": "code",
   "execution_count": null,
   "id": "c98e0aa7-7b42-4c5c-a3c3-ef2c73f40028",
   "metadata": {},
   "outputs": [],
   "source": []
  },
  {
   "cell_type": "code",
   "execution_count": null,
   "id": "83777540-1127-467a-8f7e-707d8108c5f4",
   "metadata": {},
   "outputs": [],
   "source": []
  },
  {
   "cell_type": "code",
   "execution_count": null,
   "id": "0bfc5437-cb8e-40d9-b29d-78d8ebd153e4",
   "metadata": {},
   "outputs": [],
   "source": []
  }
 ],
 "metadata": {
  "kernelspec": {
   "display_name": "Python 3 (ipykernel)",
   "language": "python",
   "name": "python3"
  },
  "language_info": {
   "codemirror_mode": {
    "name": "ipython",
    "version": 3
   },
   "file_extension": ".py",
   "mimetype": "text/x-python",
   "name": "python",
   "nbconvert_exporter": "python",
   "pygments_lexer": "ipython3",
   "version": "3.10.8"
  },
  "toc-showtags": true
 },
 "nbformat": 4,
 "nbformat_minor": 5
}
