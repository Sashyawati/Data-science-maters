{
 "cells": [
  {
   "cell_type": "markdown",
   "id": "e85d421a-0da3-414b-8811-04c36ef819b5",
   "metadata": {},
   "source": [
    "Q1. You are writing code for a company. The requirement of the company is that you create a python\n",
    "function that will check whether the password entered by the user is correct or not. The function should\n",
    "take the password as input and return the string “Valid Password” if the entered password follows the\n",
    "below-given password guidelines else it should return “Invalid Password”.\n",
    "Note: 1. The Password should contain at least two uppercase letters and at least two lowercase letters.\n",
    "2. The Password should contain at least a number and three special characters.\n",
    "3. The length of the password should be 10 characters long."
   ]
  },
  {
   "cell_type": "code",
   "execution_count": 1,
   "id": "6dd4943d-5b29-467d-bd86-d1b9a758b4a5",
   "metadata": {},
   "outputs": [
    {
     "name": "stdin",
     "output_type": "stream",
     "text": [
      "Enter in a password to be checked:  rohan@123deka12\n"
     ]
    },
    {
     "name": "stdout",
     "output_type": "stream",
     "text": [
      "Password does not contain enough digits.\n",
      "Password does not contain enough characters or digits.\n",
      "Password does not contain enough characters or digits.\n",
      "Password does not contain enough characters or digits.\n",
      "Password does not contain enough characters or digits.\n"
     ]
    }
   ],
   "source": [
    "password = str(input(\"Enter in a password to be checked: \"))\n",
    "\n",
    "def valid_password_checker(password):\n",
    "\n",
    "    from string import ascii_lowercase as alphabet\n",
    "\n",
    "    digits = '0123456789'  # creates a string of digits\n",
    "    digit = 0  # acc for digits\n",
    "    length = 0 # acc for length\n",
    "\n",
    "    for char in password:  # calls on each character in string\n",
    "        if char in alphabet:\n",
    "            length += 1\n",
    "        if char in digits:\n",
    "            digit += 1\n",
    "            if digit >= 2:\n",
    "                flag = True\n",
    "                if length >= 10 and digit is True:\n",
    "                    print(\"valid password\")\n",
    "                else:\n",
    "                    print(\"Password does not contain enough characters or digits.\")\n",
    "            else:\n",
    "                print(\"Password does not contain enough digits.\")\n",
    "\n",
    "valid_password_checker(password)"
   ]
  },
  {
   "cell_type": "markdown",
   "id": "92139c10-f75a-4cfa-8226-7c6ac5f19c9f",
   "metadata": {},
   "source": [
    "starts_with = lambda x: True if x.startswith('P') else False\n",
    "print(starts_with('Python'))\n",
    "starts_with = lambda x: True if x.startswith('P') else False\n",
    "print(starts_with('Java'))Q2. Solve the below-given questions using at least one of the following:\n",
    "1. Lambda functioJ\n",
    "2. Filter functioJ\n",
    "3. Zap functioJ\n",
    "4. List ComprehensioI\n",
    "\n",
    "B Check if the string starts with a particular letter Y\n",
    "\n",
    "B Check if the string is numeric Y\n",
    "B Sort a list of tuples having fruit names and their quantity. \n",
    "[(\"mango\",99),(\"orange\",80), (\"grapes\", 1000)-\n",
    "B Find the squares of numbers from 1 to 10 Y\n",
    "B Find the cube root of numbers from 1 to 10 Y\n",
    "B Check if a given number is even Y\n",
    "B Filter odd numbers from the given list.\n",
    "[1,2,3,4,5,6,7,8,9,10-\n",
    "B Sort a list of integers into positive and negative integers lists.\n",
    "[1,2,3,4,5,6,-1,-2,-3,-4,-5,0]"
   ]
  },
  {
   "cell_type": "code",
   "execution_count": 6,
   "id": "25268952-ecec-4a39-9499-1ac7b9db259f",
   "metadata": {},
   "outputs": [
    {
     "name": "stdout",
     "output_type": "stream",
     "text": [
      "True\n",
      "False\n"
     ]
    }
   ],
   "source": [
    "##check if the string starts with a particular letter Y\n",
    "\n",
    "starts_with = lambda x: True if x.startswith('Y') else False\n",
    "print(starts_with('Yellow'))\n",
    "starts_with = lambda x: True if x.startswith('Y') else False\n",
    "print(starts_with('mango'))"
   ]
  },
  {
   "cell_type": "code",
   "execution_count": 7,
   "id": "7130fba6-0c71-4f21-ac11-b08e159b2728",
   "metadata": {},
   "outputs": [
    {
     "name": "stdout",
     "output_type": "stream",
     "text": [
      "True\n",
      "True\n",
      "False\n",
      "True\n",
      "False\n",
      "True\n",
      "\n",
      "Print checking numbers:\n",
      "True\n",
      "True\n"
     ]
    }
   ],
   "source": [
    "##Check if the string is numeric\n",
    "is_num = lambda q: q.replace('.','',1).isdigit()\n",
    "print(is_num('26587'))\n",
    "print(is_num('4.2365'))\n",
    "print(is_num('-12547'))\n",
    "print(is_num('00'))\n",
    "print(is_num('A001'))\n",
    "print(is_num('001'))\n",
    "print(\"\\nPrint checking numbers:\")\n",
    "is_num1 = lambda r: is_num(r[1:]) if r[0]=='-' else is_num(r)\n",
    "print(is_num1('-16.4'))\n",
    "print(is_num1('-24587.11'))"
   ]
  },
  {
   "cell_type": "code",
   "execution_count": 8,
   "id": "6d1551b6-f544-4909-863a-3a6a99601e65",
   "metadata": {},
   "outputs": [
    {
     "data": {
      "text/plain": [
       "[('mango', 99), ('orange', 80), ('grapes', 1000)]"
      ]
     },
     "execution_count": 8,
     "metadata": {},
     "output_type": "execute_result"
    }
   ],
   "source": [
    "##Sort a list of tuples having fruit names and their quantity. \n",
    "[(\"mango\",99),(\"orange\",80), (\"grapes\", 1000)]"
   ]
  },
  {
   "cell_type": "code",
   "execution_count": 9,
   "id": "9f8120ef-da86-4dca-8cd0-9eb117caf4cd",
   "metadata": {},
   "outputs": [
    {
     "name": "stdout",
     "output_type": "stream",
     "text": [
      "Original list of tuples:\n",
      "[('mango', 99), ('orange', 80), ('grapes', 1000)]\n",
      "\n",
      "Sorting the List of Tuples:\n",
      "[('orange', 80), ('mango', 99), ('grapes', 1000)]\n"
     ]
    }
   ],
   "source": [
    "L = [('mango', 99), ('orange', 80), ('grapes', 1000)]\n",
    "print(\"Original list of tuples:\")\n",
    "print(L)\n",
    "L.sort(key = lambda x: x[1])\n",
    "print(\"\\nSorting the List of Tuples:\")\n",
    "print(L)"
   ]
  },
  {
   "cell_type": "code",
   "execution_count": 10,
   "id": "1c4bff23-5bf6-4a69-8c2f-ddfd34823656",
   "metadata": {},
   "outputs": [
    {
     "name": "stdout",
     "output_type": "stream",
     "text": [
      "Original list of integers:\n",
      "[1, 2, 3, 4, 5, 6, 7, 8, 9, 10]\n",
      "\n",
      "Square every number of the said list:\n",
      "[1, 4, 9, 16, 25, 36, 49, 64, 81, 100]\n"
     ]
    }
   ],
   "source": [
    "##Find the squares of numbers from 1 to 10\n",
    "nums = [1, 2, 3, 4, 5, 6, 7, 8, 9, 10]\n",
    "print(\"Original list of integers:\")\n",
    "print(nums)\n",
    "print(\"\\nSquare every number of the said list:\")\n",
    "square_nums = list(map(lambda x: x ** 2, nums))\n",
    "print(square_nums)"
   ]
  },
  {
   "cell_type": "code",
   "execution_count": 11,
   "id": "f76cb746-9b01-47b4-813e-b8b5f2476db3",
   "metadata": {},
   "outputs": [
    {
     "name": "stdout",
     "output_type": "stream",
     "text": [
      "Original list of integers:\n",
      "[1, 2, 3, 4, 5, 6, 7, 8, 9, 10]\n",
      "\n",
      "Cube every number of the said list:\n",
      "[1, 8, 27, 64, 125, 216, 343, 512, 729, 1000]\n"
     ]
    }
   ],
   "source": [
    "##cube of the list\n",
    "nums = [1, 2, 3, 4, 5, 6, 7, 8, 9, 10]\n",
    "print(\"Original list of integers:\")\n",
    "print(nums)\n",
    "print(\"\\nCube every number of the said list:\")\n",
    "cube_nums = list(map(lambda x: x ** 3, nums))\n",
    "print(cube_nums)"
   ]
  },
  {
   "cell_type": "code",
   "execution_count": 14,
   "id": "61159e0c-e118-4922-bf2b-cbb74f837eb5",
   "metadata": {},
   "outputs": [
    {
     "name": "stdout",
     "output_type": "stream",
     "text": [
      "Original arrays:\n",
      "[1, 2, 3, 4, 5, 6, 7, 8, 9, 10]\n",
      "\n",
      "Number of even numbers in the above array:  [2, 4, 6, 8, 10]\n"
     ]
    }
   ],
   "source": [
    "##Check if a given number is even\n",
    "array_nums = [1,2,3,4,5,6,7,8,9,10]\n",
    "print(\"Original arrays:\")\n",
    "print(array_nums)\n",
    "even_ctr = list(filter(lambda x: (x%2 == 0) , array_nums))\n",
    "print(\"\\nNumber of even numbers in the above array: \", even_ctr)"
   ]
  },
  {
   "cell_type": "code",
   "execution_count": 15,
   "id": "a0bf20ff-518b-4ff4-96b5-5d3d8613b700",
   "metadata": {},
   "outputs": [
    {
     "name": "stdout",
     "output_type": "stream",
     "text": [
      "Original arrays:\n",
      "[1, 2, 3, 4, 5, 6, 7, 8, 9, 10]\n",
      "\n",
      "Number of odd numbers in the above array:  [1, 3, 5, 7, 9]\n"
     ]
    }
   ],
   "source": [
    "##odd numbers\n",
    "array_nums = [1,2,3,4,5,6,7,8,9,10]\n",
    "print(\"Original arrays:\")\n",
    "print(array_nums)\n",
    "odd_ctr = list(filter(lambda x: (x%2 != 0) , array_nums))\n",
    "print(\"\\nNumber of odd numbers in the above array: \", odd_ctr)\n"
   ]
  },
  {
   "cell_type": "code",
   "execution_count": 16,
   "id": "0446ee85-b345-4ef6-a514-7acd034e96e1",
   "metadata": {},
   "outputs": [
    {
     "data": {
      "text/plain": [
       "[1, 2, 3, 4, 5, 6, -1, -2, -3, -4, -5, 0]"
      ]
     },
     "execution_count": 16,
     "metadata": {},
     "output_type": "execute_result"
    }
   ],
   "source": [
    "##Sort a list of integers into positive and negative integers lists.\n",
    "[1,2,3,4,5,6,-1,-2,-3,-4,-5,0]"
   ]
  },
  {
   "cell_type": "code",
   "execution_count": 17,
   "id": "8e2d09bf-18ab-41c2-80e7-bc281dfbbd00",
   "metadata": {},
   "outputs": [
    {
     "name": "stdout",
     "output_type": "stream",
     "text": [
      "Original:\n",
      "[1, 2, 3, 4, 5, 6, -1, -2, -3, -4, -5, 0]\n",
      "\n",
      "Rearrange positive and negative numbers :\n",
      "[1, 2, 3, 4, 5, 6, 0, -5, -4, -3, -2, -1]\n"
     ]
    }
   ],
   "source": [
    "nums = [1,2,3,4,5,6,-1,-2,-3,-4,-5,0]\n",
    "print(\"Original:\")\n",
    "print(nums)\n",
    "result = sorted(nums, key = lambda i: 0 if i == 0 else -1 / i)\n",
    "print(\"\\nRearrange positive and negative numbers :\")\n",
    "print(result)"
   ]
  },
  {
   "cell_type": "code",
   "execution_count": null,
   "id": "978e7b99-2742-41b1-b76a-3207f3345c67",
   "metadata": {},
   "outputs": [],
   "source": []
  }
 ],
 "metadata": {
  "kernelspec": {
   "display_name": "Python 3 (ipykernel)",
   "language": "python",
   "name": "python3"
  },
  "language_info": {
   "codemirror_mode": {
    "name": "ipython",
    "version": 3
   },
   "file_extension": ".py",
   "mimetype": "text/x-python",
   "name": "python",
   "nbconvert_exporter": "python",
   "pygments_lexer": "ipython3",
   "version": "3.10.8"
  }
 },
 "nbformat": 4,
 "nbformat_minor": 5
}
