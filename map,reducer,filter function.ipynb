{
 "cells": [
  {
   "cell_type": "code",
   "execution_count": 1,
   "id": "b71bfd7c-266e-4bbc-bc57-ac72d691e2c7",
   "metadata": {},
   "outputs": [],
   "source": [
    "##map function\n",
    "l = [1,2,3,4,5]"
   ]
  },
  {
   "cell_type": "code",
   "execution_count": 5,
   "id": "c9e87452-de35-4867-9292-edf380b308e8",
   "metadata": {},
   "outputs": [],
   "source": [
    "def test(l):\n",
    "    l1 =[]\n",
    "    for i in l:\n",
    "         l1.append(i**2)\n",
    "    return l1  "
   ]
  },
  {
   "cell_type": "code",
   "execution_count": 6,
   "id": "565749b8-3704-4b04-a224-c0740486c060",
   "metadata": {},
   "outputs": [
    {
     "data": {
      "text/plain": [
       "[1, 4, 9, 16, 25]"
      ]
     },
     "execution_count": 6,
     "metadata": {},
     "output_type": "execute_result"
    }
   ],
   "source": [
    "test(l)"
   ]
  },
  {
   "cell_type": "code",
   "execution_count": 12,
   "id": "b462ffa1-6cac-4c1b-b058-ce5d47701d60",
   "metadata": {},
   "outputs": [],
   "source": [
    "l = [1,2,3,4,5,45,50]"
   ]
  },
  {
   "cell_type": "code",
   "execution_count": 8,
   "id": "6d1e31ed-d718-4b5a-a156-801e60c7b7db",
   "metadata": {},
   "outputs": [],
   "source": [
    "def sq(x):\n",
    "    return x**2"
   ]
  },
  {
   "cell_type": "code",
   "execution_count": 13,
   "id": "e6cc1d52-4004-46f8-b7dc-cb42f1f26850",
   "metadata": {},
   "outputs": [
    {
     "data": {
      "text/plain": [
       "[1, 4, 9, 16, 25, 2025, 2500]"
      ]
     },
     "execution_count": 13,
     "metadata": {},
     "output_type": "execute_result"
    }
   ],
   "source": [
    "##alternate method\n",
    "list(map(sq ,l))"
   ]
  },
  {
   "cell_type": "code",
   "execution_count": 14,
   "id": "bd66f331-8275-4a8f-8861-b55c6f01c915",
   "metadata": {},
   "outputs": [
    {
     "data": {
      "text/plain": [
       "[1, 4, 9, 16, 25, 2025, 2500]"
      ]
     },
     "execution_count": 14,
     "metadata": {},
     "output_type": "execute_result"
    }
   ],
   "source": [
    "##alternate method\n",
    "list(map(lambda x: x**2, l))"
   ]
  },
  {
   "cell_type": "code",
   "execution_count": 15,
   "id": "52891173-59fc-44ef-ae0d-21bdbaf6468a",
   "metadata": {},
   "outputs": [
    {
     "data": {
      "text/plain": [
       "[3, 4, 5, 6, 7, 47, 52]"
      ]
     },
     "execution_count": 15,
     "metadata": {},
     "output_type": "execute_result"
    }
   ],
   "source": [
    "list(map(lambda x: x+2, l))"
   ]
  },
  {
   "cell_type": "code",
   "execution_count": 1,
   "id": "eeebd710-c77d-4099-bfa3-446eef700d71",
   "metadata": {},
   "outputs": [],
   "source": [
    "l1 = [1,2,3,4,5,6]\n",
    "l2 = [7,8,9,10,11,12]"
   ]
  },
  {
   "cell_type": "code",
   "execution_count": 2,
   "id": "cac4d03f-cee5-4290-ab3a-c0df042131a7",
   "metadata": {},
   "outputs": [
    {
     "data": {
      "text/plain": [
       "[8, 10, 12, 14, 16, 18]"
      ]
     },
     "execution_count": 2,
     "metadata": {},
     "output_type": "execute_result"
    }
   ],
   "source": [
    "list(map(lambda x,y: x+y, l1,l2))"
   ]
  },
  {
   "cell_type": "code",
   "execution_count": 3,
   "id": "317b87ac-977d-4965-b495-6fa130d1c52a",
   "metadata": {},
   "outputs": [],
   "source": [
    "s = 'pwskills'"
   ]
  },
  {
   "cell_type": "code",
   "execution_count": 4,
   "id": "cd6b88cd-2aa4-4b0c-bb37-6e7a36844f3c",
   "metadata": {},
   "outputs": [
    {
     "data": {
      "text/plain": [
       "['P', 'W', 'S', 'K', 'I', 'L', 'L', 'S']"
      ]
     },
     "execution_count": 4,
     "metadata": {},
     "output_type": "execute_result"
    }
   ],
   "source": [
    "list(map(lambda x: x.upper(),s))"
   ]
  },
  {
   "cell_type": "code",
   "execution_count": 6,
   "id": "84c997c9-12d0-4379-89bf-f7ea530082c2",
   "metadata": {},
   "outputs": [],
   "source": [
    "from functools import reduce"
   ]
  },
  {
   "cell_type": "code",
   "execution_count": 7,
   "id": "e90aba96-3ef3-4eb8-a3e1-07bd909e36b5",
   "metadata": {},
   "outputs": [],
   "source": [
    "##reduce function\n",
    "l = [1,2,3,4,5,6]"
   ]
  },
  {
   "cell_type": "code",
   "execution_count": 8,
   "id": "1a5184e0-8f81-4446-973a-ec8921f8c615",
   "metadata": {},
   "outputs": [
    {
     "data": {
      "text/plain": [
       "21"
      ]
     },
     "execution_count": 8,
     "metadata": {},
     "output_type": "execute_result"
    }
   ],
   "source": [
    "reduce(lambda x,y: x+y,l)"
   ]
  },
  {
   "cell_type": "code",
   "execution_count": 9,
   "id": "4ec08873-f345-47a9-b039-dff88f103abd",
   "metadata": {},
   "outputs": [],
   "source": [
    "def add(x,y):\n",
    "    return x+y"
   ]
  },
  {
   "cell_type": "code",
   "execution_count": 10,
   "id": "8d82e635-2250-4451-85d6-c33ab2c9c1dc",
   "metadata": {},
   "outputs": [
    {
     "data": {
      "text/plain": [
       "21"
      ]
     },
     "execution_count": 10,
     "metadata": {},
     "output_type": "execute_result"
    }
   ],
   "source": [
    "reduce(add,l)"
   ]
  },
  {
   "cell_type": "code",
   "execution_count": 16,
   "id": "218b4694-69a7-4283-ae0c-9430e1d3fc66",
   "metadata": {},
   "outputs": [
    {
     "data": {
      "text/plain": [
       "[1, 2, 3, 4, 5, 6]"
      ]
     },
     "execution_count": 16,
     "metadata": {},
     "output_type": "execute_result"
    }
   ],
   "source": [
    "l"
   ]
  },
  {
   "cell_type": "code",
   "execution_count": 17,
   "id": "3150a1f7-5a51-4ad6-80b1-d40c474f6359",
   "metadata": {},
   "outputs": [
    {
     "data": {
      "text/plain": [
       "6"
      ]
     },
     "execution_count": 17,
     "metadata": {},
     "output_type": "execute_result"
    }
   ],
   "source": [
    "##finding maximum numbeer\n",
    "reduce(lambda x,y : x if x > y else y,l)"
   ]
  },
  {
   "cell_type": "code",
   "execution_count": 18,
   "id": "4e287c9b-bee0-42b6-afbd-35af02f532ab",
   "metadata": {},
   "outputs": [
    {
     "data": {
      "text/plain": [
       "[1, 2, 3, 4, 5, 6]"
      ]
     },
     "execution_count": 18,
     "metadata": {},
     "output_type": "execute_result"
    }
   ],
   "source": [
    "l"
   ]
  },
  {
   "cell_type": "code",
   "execution_count": 19,
   "id": "5329833e-522b-4db8-bab9-33ab58d1996f",
   "metadata": {},
   "outputs": [
    {
     "data": {
      "text/plain": [
       "<filter at 0x7f5fd43524a0>"
      ]
     },
     "execution_count": 19,
     "metadata": {},
     "output_type": "execute_result"
    }
   ],
   "source": [
    "##filter function\n",
    "filter(lambda x : x % 2 ==0,l)"
   ]
  },
  {
   "cell_type": "code",
   "execution_count": 20,
   "id": "3a90dee8-770e-40a5-8841-ddf7eb7288e1",
   "metadata": {},
   "outputs": [
    {
     "data": {
      "text/plain": [
       "[2, 4, 6]"
      ]
     },
     "execution_count": 20,
     "metadata": {},
     "output_type": "execute_result"
    }
   ],
   "source": [
    "##finding out even numbers\n",
    "list(filter(lambda x : x % 2 ==0,l))"
   ]
  },
  {
   "cell_type": "code",
   "execution_count": 23,
   "id": "aa2f4366-f619-49df-bfe5-be00bae3c4b7",
   "metadata": {},
   "outputs": [
    {
     "data": {
      "text/plain": [
       "[1, 3, 5]"
      ]
     },
     "execution_count": 23,
     "metadata": {},
     "output_type": "execute_result"
    }
   ],
   "source": [
    "##finding out odd numbers\n",
    "list(filter(lambda x : x % 2 !=0,l))"
   ]
  },
  {
   "cell_type": "code",
   "execution_count": 24,
   "id": "2b1a9342-2c0c-42a4-9399-b2418c742fcc",
   "metadata": {},
   "outputs": [],
   "source": [
    "l1 =[-2,-2,-1,4,6,7,-19]"
   ]
  },
  {
   "cell_type": "code",
   "execution_count": 25,
   "id": "e78f5c45-99ef-42b2-be1a-10268d35efe4",
   "metadata": {},
   "outputs": [
    {
     "data": {
      "text/plain": [
       "<filter at 0x7f5fd45078b0>"
      ]
     },
     "execution_count": 25,
     "metadata": {},
     "output_type": "execute_result"
    }
   ],
   "source": [
    "filter(lambda x: x < 0, l1)"
   ]
  },
  {
   "cell_type": "code",
   "execution_count": 26,
   "id": "b4949fd1-1754-4b18-8047-a0c9bc18a227",
   "metadata": {},
   "outputs": [
    {
     "data": {
      "text/plain": [
       "[-2, -2, -1, 4, 6, 7, -19]"
      ]
     },
     "execution_count": 26,
     "metadata": {},
     "output_type": "execute_result"
    }
   ],
   "source": [
    "l1"
   ]
  },
  {
   "cell_type": "code",
   "execution_count": 27,
   "id": "dbb74a86-874e-4244-b37e-cbe6912ad785",
   "metadata": {},
   "outputs": [
    {
     "data": {
      "text/plain": [
       "[-2, -2, -1, -19]"
      ]
     },
     "execution_count": 27,
     "metadata": {},
     "output_type": "execute_result"
    }
   ],
   "source": [
    "##finding out negative numbers\n",
    "list(filter(lambda x: x < 0, l1))"
   ]
  },
  {
   "cell_type": "code",
   "execution_count": 29,
   "id": "071ae54c-1a6a-4566-afbd-0bf9baad59de",
   "metadata": {},
   "outputs": [
    {
     "data": {
      "text/plain": [
       "[4, 6, 7]"
      ]
     },
     "execution_count": 29,
     "metadata": {},
     "output_type": "execute_result"
    }
   ],
   "source": [
    "##finding out positive numbers\n",
    "list(filter(lambda x: x > 0, l1))"
   ]
  },
  {
   "cell_type": "code",
   "execution_count": 30,
   "id": "7839f9cd-89b2-4464-a61a-3a2a032de2d7",
   "metadata": {},
   "outputs": [],
   "source": [
    "l2 = ['shelly', 'deka', 'bangalore', 'shalini']"
   ]
  },
  {
   "cell_type": "code",
   "execution_count": 32,
   "id": "a9e891f8-3351-4b22-8444-2258bb6589c7",
   "metadata": {},
   "outputs": [
    {
     "data": {
      "text/plain": [
       "['deka']"
      ]
     },
     "execution_count": 32,
     "metadata": {},
     "output_type": "execute_result"
    }
   ],
   "source": [
    "list(filter(lambda x : len(x) < 6, l2))"
   ]
  },
  {
   "cell_type": "code",
   "execution_count": 33,
   "id": "07dc47df-6ed4-4647-be60-5aff071fc233",
   "metadata": {},
   "outputs": [],
   "source": [
    "##quiz question\n",
    "numbers = [1, 2, 3, 4, 5]"
   ]
  },
  {
   "cell_type": "code",
   "execution_count": 34,
   "id": "54574968-2594-4f62-b604-d01d81fd75ff",
   "metadata": {},
   "outputs": [],
   "source": [
    "product = reduce(lambda x, y: x*y, numbers)"
   ]
  },
  {
   "cell_type": "code",
   "execution_count": 35,
   "id": "54f82fa6-3e64-47be-a0ed-a4289d7722a0",
   "metadata": {},
   "outputs": [
    {
     "name": "stdout",
     "output_type": "stream",
     "text": [
      "120\n"
     ]
    }
   ],
   "source": [
    "print(product)"
   ]
  },
  {
   "cell_type": "code",
   "execution_count": null,
   "id": "1b3161ce-1df3-43bc-91b3-d31324314037",
   "metadata": {},
   "outputs": [],
   "source": []
  },
  {
   "cell_type": "code",
   "execution_count": null,
   "id": "898e0069-42c5-4e6b-ad34-6155c8249b59",
   "metadata": {},
   "outputs": [],
   "source": []
  },
  {
   "cell_type": "code",
   "execution_count": null,
   "id": "8f73a487-66ea-4696-9f4b-9ff04d920838",
   "metadata": {},
   "outputs": [],
   "source": []
  },
  {
   "cell_type": "code",
   "execution_count": null,
   "id": "0c0a97df-c3a0-485f-8175-29e1cb21c8ff",
   "metadata": {},
   "outputs": [],
   "source": []
  }
 ],
 "metadata": {
  "kernelspec": {
   "display_name": "Python 3 (ipykernel)",
   "language": "python",
   "name": "python3"
  },
  "language_info": {
   "codemirror_mode": {
    "name": "ipython",
    "version": 3
   },
   "file_extension": ".py",
   "mimetype": "text/x-python",
   "name": "python",
   "nbconvert_exporter": "python",
   "pygments_lexer": "ipython3",
   "version": "3.10.8"
  }
 },
 "nbformat": 4,
 "nbformat_minor": 5
}
